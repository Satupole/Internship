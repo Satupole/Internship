{
 "cells": [
  {
   "cell_type": "markdown",
   "id": "70916801",
   "metadata": {},
   "source": [
    "#Q11: python program to find the factorial of a number"
   ]
  },
  {
   "cell_type": "code",
   "execution_count": 13,
   "id": "4e314cba",
   "metadata": {},
   "outputs": [
    {
     "name": "stdout",
     "output_type": "stream",
     "text": [
      "Enter A Number 6\n",
      "factorial of number 6 is 720\n"
     ]
    }
   ],
   "source": [
    "n=int(input('Enter A Number: '))\n",
    "factorial=1\n",
    "for i in range(1,n+1):\n",
    "    factorial=factorial*i\n",
    "print('factorial of number',n,'is',factorial)    "
   ]
  },
  {
   "cell_type": "code",
   "execution_count": 19,
   "id": "8c6612cb",
   "metadata": {},
   "outputs": [],
   "source": [
    "import math"
   ]
  },
  {
   "cell_type": "code",
   "execution_count": 25,
   "id": "394f8846",
   "metadata": {},
   "outputs": [
    {
     "name": "stdout",
     "output_type": "stream",
     "text": [
      "Enter A Number: 6\n",
      "The factorial of number 6 is 720\n"
     ]
    }
   ],
   "source": [
    "n=int(input('Enter A Number: '))\n",
    "math.factorial(n)\n",
    "print('The factorial of number',n,'is',math.factorial(n))\n"
   ]
  },
  {
   "cell_type": "markdown",
   "id": "c02bd5ce",
   "metadata": {},
   "source": [
    "Q12:  python program to find whether a number is prime or composite."
   ]
  },
  {
   "cell_type": "code",
   "execution_count": 34,
   "id": "2223ad13",
   "metadata": {},
   "outputs": [
    {
     "name": "stdout",
     "output_type": "stream",
     "text": [
      "Enter a number: 4\n",
      "4 is a composite number\n"
     ]
    }
   ],
   "source": [
    "n=int(input('Enter a number: '))\n",
    "if n>1:\n",
    "    for i in range(2,int(n/2)+1):\n",
    "        if (n % i) == 0:\n",
    "            print(n,'is a composite number')\n",
    "            break\n",
    "    else:\n",
    "        print(n,'is a prime number')"
   ]
  },
  {
   "cell_type": "markdown",
   "id": "adf6f037",
   "metadata": {},
   "source": [
    "Q13: python program to check whether a given string is palindrome or not"
   ]
  },
  {
   "cell_type": "code",
   "execution_count": 2,
   "id": "2e8b63af",
   "metadata": {},
   "outputs": [
    {
     "name": "stdout",
     "output_type": "stream",
     "text": [
      "Enter a word: satu\n",
      "satu word is not a palindrome\n"
     ]
    }
   ],
   "source": [
    "string= input('Enter a word: ')\n",
    "if string== string[::-1]:\n",
    "    print(string,'word is a palindrome')\n",
    "else:\n",
    "    print(string,'word is not a palindrome')\n",
    "    "
   ]
  },
  {
   "cell_type": "markdown",
   "id": "6af67e5a",
   "metadata": {},
   "source": [
    " Q14: Python program to get the third side of right-angled triangle from two given sides."
   ]
  },
  {
   "cell_type": "code",
   "execution_count": 10,
   "id": "d306abfb",
   "metadata": {},
   "outputs": [
    {
     "name": "stdout",
     "output_type": "stream",
     "text": [
      "('hypotenuse= ', '5.0')\n",
      "('adjacent= ', '5.291502622129181')\n",
      "('opposite= ', '6.244997998398398')\n"
     ]
    }
   ],
   "source": [
    "def rat(hyp,adj,opp):\n",
    "    if hyp==str('i'):\n",
    "        return('hypotenuse= ',str(((opp**2)+(adj**2))**0.5))\n",
    "    elif adj==str('i'):\n",
    "        return('adjacent= ',str(((hyp**2)-(opp**2))**0.5))\n",
    "    elif opp==str('i'):\n",
    "        return('opposite= ',str(((hyp**2)-(adj**2))**0.5))\n",
    "        \n",
    "print(rat('i',3,4))\n",
    "print(rat(8,'i',6))    \n",
    "print(rat(8,5,'i'))"
   ]
  },
  {
   "cell_type": "markdown",
   "id": "2b46a1bc",
   "metadata": {},
   "source": [
    "Q15: python program to print the frequency of each of the characters present in a given string"
   ]
  },
  {
   "cell_type": "code",
   "execution_count": 15,
   "id": "8e73e361",
   "metadata": {},
   "outputs": [
    {
     "name": "stdout",
     "output_type": "stream",
     "text": [
      "Enter a string: hi this is satu\n",
      "u:1\n",
      "h:2\n",
      "i:3\n",
      "t:2\n",
      "s:3\n",
      "a:1\n",
      " :3\n"
     ]
    }
   ],
   "source": [
    "str_data=input('Enter a string: ')\n",
    "for val in set(str_data):\n",
    "    frequency=str_data.count(val)\n",
    "    print(str(val)+':'+str(frequency))"
   ]
  },
  {
   "cell_type": "code",
   "execution_count": null,
   "id": "0dd8f8a6",
   "metadata": {},
   "outputs": [],
   "source": []
  },
  {
   "cell_type": "code",
   "execution_count": null,
   "id": "a51ba18d",
   "metadata": {},
   "outputs": [],
   "source": []
  },
  {
   "cell_type": "code",
   "execution_count": null,
   "id": "18a43077",
   "metadata": {},
   "outputs": [],
   "source": []
  }
 ],
 "metadata": {
  "kernelspec": {
   "display_name": "Python 3 (ipykernel)",
   "language": "python",
   "name": "python3"
  },
  "language_info": {
   "codemirror_mode": {
    "name": "ipython",
    "version": 3
   },
   "file_extension": ".py",
   "mimetype": "text/x-python",
   "name": "python",
   "nbconvert_exporter": "python",
   "pygments_lexer": "ipython3",
   "version": "3.9.12"
  }
 },
 "nbformat": 4,
 "nbformat_minor": 5
}
