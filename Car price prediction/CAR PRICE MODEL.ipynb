{
 "cells": [
  {
   "cell_type": "code",
   "execution_count": 1,
   "id": "0ef2836b",
   "metadata": {},
   "outputs": [],
   "source": [
    "import pandas as pd # pandas library\n",
    "import numpy as np # numpy library\n",
    "\n",
    "import seaborn as sns # seaborn visualization library\n",
    "import matplotlib.pyplot as plt # matplotlib visualization library\n",
    "%matplotlib inline\n",
    "\n",
    "import warnings # importing warnings\n",
    "warnings.filterwarnings('ignore')"
   ]
  },
  {
   "cell_type": "code",
   "execution_count": 57,
   "id": "0b256e46",
   "metadata": {
    "scrolled": true
   },
   "outputs": [
    {
     "data": {
      "text/html": [
       "<div>\n",
       "<style scoped>\n",
       "    .dataframe tbody tr th:only-of-type {\n",
       "        vertical-align: middle;\n",
       "    }\n",
       "\n",
       "    .dataframe tbody tr th {\n",
       "        vertical-align: top;\n",
       "    }\n",
       "\n",
       "    .dataframe thead th {\n",
       "        text-align: right;\n",
       "    }\n",
       "</style>\n",
       "<table border=\"1\" class=\"dataframe\">\n",
       "  <thead>\n",
       "    <tr style=\"text-align: right;\">\n",
       "      <th></th>\n",
       "      <th>Unnamed: 0.1</th>\n",
       "      <th>Unnamed: 0</th>\n",
       "      <th>brand</th>\n",
       "      <th>model</th>\n",
       "      <th>year</th>\n",
       "      <th>transmission</th>\n",
       "      <th>kms_driven</th>\n",
       "      <th>owner</th>\n",
       "      <th>fuel_type</th>\n",
       "      <th>price</th>\n",
       "      <th>location</th>\n",
       "    </tr>\n",
       "  </thead>\n",
       "  <tbody>\n",
       "    <tr>\n",
       "      <th>0</th>\n",
       "      <td>0</td>\n",
       "      <td>0</td>\n",
       "      <td>Maruti</td>\n",
       "      <td>['Swift']</td>\n",
       "      <td>2020</td>\n",
       "      <td>Manual</td>\n",
       "      <td>22,826 km</td>\n",
       "      <td>1st Owner</td>\n",
       "      <td>Petrol</td>\n",
       "      <td>₹5,22,000</td>\n",
       "      <td>New Delhi</td>\n",
       "    </tr>\n",
       "    <tr>\n",
       "      <th>1</th>\n",
       "      <td>1</td>\n",
       "      <td>1</td>\n",
       "      <td>KIA</td>\n",
       "      <td>['SELTOS']</td>\n",
       "      <td>2020</td>\n",
       "      <td>Manual</td>\n",
       "      <td>5,999 km</td>\n",
       "      <td>1st Owner</td>\n",
       "      <td>Petrol</td>\n",
       "      <td>₹17,22,000</td>\n",
       "      <td>New Delhi</td>\n",
       "    </tr>\n",
       "    <tr>\n",
       "      <th>2</th>\n",
       "      <td>2</td>\n",
       "      <td>2</td>\n",
       "      <td>Maruti</td>\n",
       "      <td>['Swift']</td>\n",
       "      <td>2020</td>\n",
       "      <td>Manual</td>\n",
       "      <td>16,691 km</td>\n",
       "      <td>2nd Owner</td>\n",
       "      <td>Petrol</td>\n",
       "      <td>₹5,30,000</td>\n",
       "      <td>New Delhi</td>\n",
       "    </tr>\n",
       "    <tr>\n",
       "      <th>3</th>\n",
       "      <td>3</td>\n",
       "      <td>3</td>\n",
       "      <td>KIA</td>\n",
       "      <td>['SELTOS']</td>\n",
       "      <td>2020</td>\n",
       "      <td>Automatic</td>\n",
       "      <td>9,417 km</td>\n",
       "      <td>1st Owner</td>\n",
       "      <td>Petrol</td>\n",
       "      <td>₹16,81,000</td>\n",
       "      <td>New Delhi</td>\n",
       "    </tr>\n",
       "    <tr>\n",
       "      <th>4</th>\n",
       "      <td>4</td>\n",
       "      <td>4</td>\n",
       "      <td>Hyundai</td>\n",
       "      <td>['Grand', 'i10']</td>\n",
       "      <td>2019</td>\n",
       "      <td>Manual</td>\n",
       "      <td>19,964 km</td>\n",
       "      <td>1st Owner</td>\n",
       "      <td>Petrol</td>\n",
       "      <td>₹5,03,000</td>\n",
       "      <td>New Delhi</td>\n",
       "    </tr>\n",
       "  </tbody>\n",
       "</table>\n",
       "</div>"
      ],
      "text/plain": [
       "   Unnamed: 0.1  Unnamed: 0    brand             model  year transmission  \\\n",
       "0             0           0   Maruti         ['Swift']  2020       Manual   \n",
       "1             1           1      KIA        ['SELTOS']  2020       Manual   \n",
       "2             2           2   Maruti         ['Swift']  2020       Manual   \n",
       "3             3           3      KIA        ['SELTOS']  2020    Automatic   \n",
       "4             4           4  Hyundai  ['Grand', 'i10']  2019       Manual   \n",
       "\n",
       "  kms_driven      owner fuel_type       price   location  \n",
       "0  22,826 km  1st Owner    Petrol   ₹5,22,000  New Delhi  \n",
       "1   5,999 km  1st Owner    Petrol  ₹17,22,000  New Delhi  \n",
       "2  16,691 km  2nd Owner    Petrol   ₹5,30,000  New Delhi  \n",
       "3   9,417 km  1st Owner    Petrol  ₹16,81,000  New Delhi  \n",
       "4  19,964 km  1st Owner    Petrol   ₹5,03,000  New Delhi  "
      ]
     },
     "execution_count": 57,
     "metadata": {},
     "output_type": "execute_result"
    }
   ],
   "source": [
    "#importing dataset and printing it\n",
    "\n",
    "data=pd.read_csv('cars24_data')\n",
    "data.head()"
   ]
  },
  {
   "cell_type": "code",
   "execution_count": 58,
   "id": "1006d890",
   "metadata": {},
   "outputs": [
    {
     "data": {
      "text/plain": [
       "(7019, 11)"
      ]
     },
     "execution_count": 58,
     "metadata": {},
     "output_type": "execute_result"
    }
   ],
   "source": [
    "#dataset shape\n",
    "\n",
    "data.shape"
   ]
  },
  {
   "cell_type": "markdown",
   "id": "4d7b6b58",
   "metadata": {},
   "source": [
    "# Data Cleaning"
   ]
  },
  {
   "cell_type": "code",
   "execution_count": 59,
   "id": "0f94340d",
   "metadata": {},
   "outputs": [],
   "source": [
    "#removing unnamed :0.1 and Unnamed: 0 columns from dataset\n",
    "\n",
    "data.drop(['Unnamed: 0.1','Unnamed: 0'],axis=1,inplace=True)"
   ]
  },
  {
   "cell_type": "code",
   "execution_count": 60,
   "id": "bfd81cb3",
   "metadata": {
    "scrolled": true
   },
   "outputs": [
    {
     "data": {
      "text/html": [
       "<div>\n",
       "<style scoped>\n",
       "    .dataframe tbody tr th:only-of-type {\n",
       "        vertical-align: middle;\n",
       "    }\n",
       "\n",
       "    .dataframe tbody tr th {\n",
       "        vertical-align: top;\n",
       "    }\n",
       "\n",
       "    .dataframe thead th {\n",
       "        text-align: right;\n",
       "    }\n",
       "</style>\n",
       "<table border=\"1\" class=\"dataframe\">\n",
       "  <thead>\n",
       "    <tr style=\"text-align: right;\">\n",
       "      <th></th>\n",
       "      <th>brand</th>\n",
       "      <th>model</th>\n",
       "      <th>year</th>\n",
       "      <th>transmission</th>\n",
       "      <th>kms_driven</th>\n",
       "      <th>owner</th>\n",
       "      <th>fuel_type</th>\n",
       "      <th>price</th>\n",
       "      <th>location</th>\n",
       "    </tr>\n",
       "  </thead>\n",
       "  <tbody>\n",
       "    <tr>\n",
       "      <th>0</th>\n",
       "      <td>Maruti</td>\n",
       "      <td>['Swift']</td>\n",
       "      <td>2020</td>\n",
       "      <td>Manual</td>\n",
       "      <td>22,826 km</td>\n",
       "      <td>1st Owner</td>\n",
       "      <td>Petrol</td>\n",
       "      <td>₹5,22,000</td>\n",
       "      <td>New Delhi</td>\n",
       "    </tr>\n",
       "    <tr>\n",
       "      <th>1</th>\n",
       "      <td>KIA</td>\n",
       "      <td>['SELTOS']</td>\n",
       "      <td>2020</td>\n",
       "      <td>Manual</td>\n",
       "      <td>5,999 km</td>\n",
       "      <td>1st Owner</td>\n",
       "      <td>Petrol</td>\n",
       "      <td>₹17,22,000</td>\n",
       "      <td>New Delhi</td>\n",
       "    </tr>\n",
       "    <tr>\n",
       "      <th>2</th>\n",
       "      <td>Maruti</td>\n",
       "      <td>['Swift']</td>\n",
       "      <td>2020</td>\n",
       "      <td>Manual</td>\n",
       "      <td>16,691 km</td>\n",
       "      <td>2nd Owner</td>\n",
       "      <td>Petrol</td>\n",
       "      <td>₹5,30,000</td>\n",
       "      <td>New Delhi</td>\n",
       "    </tr>\n",
       "    <tr>\n",
       "      <th>3</th>\n",
       "      <td>KIA</td>\n",
       "      <td>['SELTOS']</td>\n",
       "      <td>2020</td>\n",
       "      <td>Automatic</td>\n",
       "      <td>9,417 km</td>\n",
       "      <td>1st Owner</td>\n",
       "      <td>Petrol</td>\n",
       "      <td>₹16,81,000</td>\n",
       "      <td>New Delhi</td>\n",
       "    </tr>\n",
       "    <tr>\n",
       "      <th>4</th>\n",
       "      <td>Hyundai</td>\n",
       "      <td>['Grand', 'i10']</td>\n",
       "      <td>2019</td>\n",
       "      <td>Manual</td>\n",
       "      <td>19,964 km</td>\n",
       "      <td>1st Owner</td>\n",
       "      <td>Petrol</td>\n",
       "      <td>₹5,03,000</td>\n",
       "      <td>New Delhi</td>\n",
       "    </tr>\n",
       "    <tr>\n",
       "      <th>...</th>\n",
       "      <td>...</td>\n",
       "      <td>...</td>\n",
       "      <td>...</td>\n",
       "      <td>...</td>\n",
       "      <td>...</td>\n",
       "      <td>...</td>\n",
       "      <td>...</td>\n",
       "      <td>...</td>\n",
       "      <td>...</td>\n",
       "    </tr>\n",
       "    <tr>\n",
       "      <th>7014</th>\n",
       "      <td>Maruti</td>\n",
       "      <td>['Swift', 'Dzire']</td>\n",
       "      <td>2016</td>\n",
       "      <td>NaN</td>\n",
       "      <td>43,659 km</td>\n",
       "      <td>1st Owner</td>\n",
       "      <td>Petrol</td>\n",
       "      <td>₹5,54,000</td>\n",
       "      <td>Pune</td>\n",
       "    </tr>\n",
       "    <tr>\n",
       "      <th>7015</th>\n",
       "      <td>Maruti</td>\n",
       "      <td>['Wagon', 'R', '1.0']</td>\n",
       "      <td>2016</td>\n",
       "      <td>Manual</td>\n",
       "      <td>24,168 km</td>\n",
       "      <td>1st Owner</td>\n",
       "      <td>Petrol</td>\n",
       "      <td>₹4,15,000</td>\n",
       "      <td>Pune</td>\n",
       "    </tr>\n",
       "    <tr>\n",
       "      <th>7016</th>\n",
       "      <td>Maruti</td>\n",
       "      <td>['Swift']</td>\n",
       "      <td>2015</td>\n",
       "      <td>Manual</td>\n",
       "      <td>61,768 km</td>\n",
       "      <td>1st Owner</td>\n",
       "      <td>Petrol</td>\n",
       "      <td>₹5,14,000</td>\n",
       "      <td>Pune</td>\n",
       "    </tr>\n",
       "    <tr>\n",
       "      <th>7017</th>\n",
       "      <td>Maruti</td>\n",
       "      <td>['Wagon', 'R', '1.0']</td>\n",
       "      <td>2015</td>\n",
       "      <td>Manual</td>\n",
       "      <td>67,853 km</td>\n",
       "      <td>1st Owner</td>\n",
       "      <td>CNG</td>\n",
       "      <td>₹3,57,000</td>\n",
       "      <td>Pune</td>\n",
       "    </tr>\n",
       "    <tr>\n",
       "      <th>7018</th>\n",
       "      <td>Renault</td>\n",
       "      <td>['Kwid']</td>\n",
       "      <td>2016</td>\n",
       "      <td>Manual</td>\n",
       "      <td>49,015 km</td>\n",
       "      <td>1st Owner</td>\n",
       "      <td>Petrol</td>\n",
       "      <td>₹3,32,000</td>\n",
       "      <td>Pune</td>\n",
       "    </tr>\n",
       "  </tbody>\n",
       "</table>\n",
       "<p>7019 rows × 9 columns</p>\n",
       "</div>"
      ],
      "text/plain": [
       "        brand                  model  year transmission kms_driven      owner  \\\n",
       "0      Maruti              ['Swift']  2020       Manual  22,826 km  1st Owner   \n",
       "1         KIA             ['SELTOS']  2020       Manual   5,999 km  1st Owner   \n",
       "2      Maruti              ['Swift']  2020       Manual  16,691 km  2nd Owner   \n",
       "3         KIA             ['SELTOS']  2020    Automatic   9,417 km  1st Owner   \n",
       "4     Hyundai       ['Grand', 'i10']  2019       Manual  19,964 km  1st Owner   \n",
       "...       ...                    ...   ...          ...        ...        ...   \n",
       "7014   Maruti     ['Swift', 'Dzire']  2016          NaN  43,659 km  1st Owner   \n",
       "7015   Maruti  ['Wagon', 'R', '1.0']  2016       Manual  24,168 km  1st Owner   \n",
       "7016   Maruti              ['Swift']  2015       Manual  61,768 km  1st Owner   \n",
       "7017   Maruti  ['Wagon', 'R', '1.0']  2015       Manual  67,853 km  1st Owner   \n",
       "7018  Renault               ['Kwid']  2016       Manual  49,015 km  1st Owner   \n",
       "\n",
       "     fuel_type       price   location  \n",
       "0       Petrol   ₹5,22,000  New Delhi  \n",
       "1       Petrol  ₹17,22,000  New Delhi  \n",
       "2       Petrol   ₹5,30,000  New Delhi  \n",
       "3       Petrol  ₹16,81,000  New Delhi  \n",
       "4       Petrol   ₹5,03,000  New Delhi  \n",
       "...        ...         ...        ...  \n",
       "7014    Petrol   ₹5,54,000       Pune  \n",
       "7015    Petrol   ₹4,15,000       Pune  \n",
       "7016    Petrol   ₹5,14,000       Pune  \n",
       "7017       CNG   ₹3,57,000       Pune  \n",
       "7018    Petrol   ₹3,32,000       Pune  \n",
       "\n",
       "[7019 rows x 9 columns]"
      ]
     },
     "execution_count": 60,
     "metadata": {},
     "output_type": "execute_result"
    }
   ],
   "source": [
    "data"
   ]
  },
  {
   "cell_type": "code",
   "execution_count": 61,
   "id": "cdf768c6",
   "metadata": {},
   "outputs": [
    {
     "data": {
      "text/plain": [
       "1219"
      ]
     },
     "execution_count": 61,
     "metadata": {},
     "output_type": "execute_result"
    }
   ],
   "source": [
    "#checking for duplicate values in dataset\n",
    "\n",
    "data.duplicated().sum()"
   ]
  },
  {
   "cell_type": "code",
   "execution_count": 62,
   "id": "7792daa8",
   "metadata": {},
   "outputs": [],
   "source": [
    "#dropping duplicates rows from dataset\n",
    "\n",
    "data.drop_duplicates(inplace=True)"
   ]
  },
  {
   "cell_type": "code",
   "execution_count": 63,
   "id": "2370e302",
   "metadata": {},
   "outputs": [
    {
     "data": {
      "text/plain": [
       "(5800, 9)"
      ]
     },
     "execution_count": 63,
     "metadata": {},
     "output_type": "execute_result"
    }
   ],
   "source": [
    "#shape of the dataset after dropping duplicates\n",
    "data.shape"
   ]
  },
  {
   "cell_type": "code",
   "execution_count": 64,
   "id": "aae112c1",
   "metadata": {},
   "outputs": [],
   "source": [
    "#removing commas\n",
    "\n",
    "data['model']=data['model'].str.replace(',','')"
   ]
  },
  {
   "cell_type": "code",
   "execution_count": 65,
   "id": "0b645567",
   "metadata": {},
   "outputs": [],
   "source": [
    "#removing square brackets left one\n",
    "\n",
    "data['model']=data['model'].str.replace('[','')"
   ]
  },
  {
   "cell_type": "code",
   "execution_count": 66,
   "id": "8ab21492",
   "metadata": {},
   "outputs": [],
   "source": [
    "#removing square brackets right one\n",
    "\n",
    "data['model']=data['model'].str.replace(']','')"
   ]
  },
  {
   "cell_type": "code",
   "execution_count": 67,
   "id": "057a1b0d",
   "metadata": {},
   "outputs": [],
   "source": [
    "#removing onverted commas\n",
    "\n",
    "data['model']=data['model'].str.replace('\\'','')"
   ]
  },
  {
   "cell_type": "code",
   "execution_count": 68,
   "id": "c0caef3f",
   "metadata": {},
   "outputs": [
    {
     "data": {
      "text/plain": [
       "array(['Swift', 'SELTOS', 'Grand i10', 'Kwid', 'Swift Dzire', 'SONET',\n",
       "       'New Wagon-R', 'Celerio', 'City', 'NEW I20', 'Wagon R 1.0', 'i20',\n",
       "       'Alto K10', 'KUSHAQ', 'Alto', 'VENUE', 'Camry', 'Kiger', 'i10',\n",
       "       'Alto 800', 'URBAN CRUISER', 'Wagon R Stingray', 'Safari',\n",
       "       'A Star', 'Eon', 'AURA', 'Go Plus', 'Redi Go', 'Ecosport', 'Rapid',\n",
       "       'Baleno', 'MAGNITE', 'Elite i20', 'Verna', 'Compass', 'ALTROZ',\n",
       "       'Thar', 'Ritz', 'Tiago', 'Ciaz', 'BREZZA', 'S Cross', 'Amaze',\n",
       "       'Glanza', 'YARIS', 'Innova Crysta', 'KUV 100 NXT', 'Brio', 'Dzire',\n",
       "       'NEXON', 'Harrier', 'NEW SANTRO', 'Octavia', 'TRIBER', 'Jazz',\n",
       "       'Duster', 'Figo Aspire', 'Xcent', 'Ertiga', 'Corolla Altis',\n",
       "       'HECTOR', 'Creta', 'WR-V', 'XUV500', 'IGNIS', 'S PRESSO', 'XL6',\n",
       "       'Celerio X', 'Polo', 'Vento', 'MARAZZO', 'Vitara Brezza',\n",
       "       'GRAND I10 NIOS', 'Scorpio', 'Etios', 'XUV 3OO', 'Tucson New',\n",
       "       'FREESTYLE', 'Micra Active', 'Bolero', 'TUV300', 'New Elantra',\n",
       "       'i20 Active', 'TIGUAN', 'Hexa', 'A3', 'Q3', 'Q5', 'BR-V', 'Pulse',\n",
       "       'Endeavour', 'Ameo', 'CARENS', 'Benz E Class', 'TIGOR',\n",
       "       'Etios Liva', 'Zest', 'Civic', 'TAIGUN', 'Micra', 'ALCAZAR', 'Go',\n",
       "       'Eeco', 'HECTOR PLUS', 'Terrano', 'PUNCH', 'Santro Xing',\n",
       "       'Wagon R', 'BOLERO NEO', 'Captur', 'ASTOR', 'Kuv100',\n",
       "       'URBAN CROSS', 'TIAGO NRG', 'NEW I20 N LINE', 'SLAVIA',\n",
       "       'Zen Estilo', 'New Figo', 'Fortuner', 'CRV'], dtype=object)"
      ]
     },
     "execution_count": 68,
     "metadata": {},
     "output_type": "execute_result"
    }
   ],
   "source": [
    "#printing unique values to check data and confirm changes done above\n",
    "\n",
    "data['model'].unique()"
   ]
  },
  {
   "cell_type": "code",
   "execution_count": 69,
   "id": "b24f6bb4",
   "metadata": {},
   "outputs": [],
   "source": [
    "#removing km from data \n",
    "\n",
    "data['kms_driven']=data['kms_driven'].str.replace('km','')"
   ]
  },
  {
   "cell_type": "code",
   "execution_count": 70,
   "id": "3eae8b1c",
   "metadata": {},
   "outputs": [],
   "source": [
    "#removing commas from price column\n",
    "\n",
    "data['kms_driven']=data['kms_driven'].str.replace(',','')"
   ]
  },
  {
   "cell_type": "code",
   "execution_count": 71,
   "id": "3d34bd73",
   "metadata": {},
   "outputs": [
    {
     "data": {
      "text/plain": [
       "array(['22826 ', '5999 ', '16691 ', ..., '61768 ', '67853 ', '49015 '],\n",
       "      dtype=object)"
      ]
     },
     "execution_count": 71,
     "metadata": {},
     "output_type": "execute_result"
    }
   ],
   "source": [
    "#confirminmg if kms is removed or not\n",
    "\n",
    "data['kms_driven'].unique()"
   ]
  },
  {
   "cell_type": "code",
   "execution_count": 72,
   "id": "882148dc",
   "metadata": {},
   "outputs": [],
   "source": [
    "#removing ₹ sign from price column\n",
    "\n",
    "data['price']=data['price'].str.replace('₹','')"
   ]
  },
  {
   "cell_type": "code",
   "execution_count": 73,
   "id": "c6064070",
   "metadata": {},
   "outputs": [],
   "source": [
    " #removing commas from price column\n",
    "    \n",
    "data['price']=data['price'].str.replace(',','')"
   ]
  },
  {
   "cell_type": "code",
   "execution_count": 74,
   "id": "bf07fff5",
   "metadata": {},
   "outputs": [
    {
     "data": {
      "text/plain": [
       "array(['522000', '1722000', '530000', ..., '204000', '219000', '1385000'],\n",
       "      dtype=object)"
      ]
     },
     "execution_count": 74,
     "metadata": {},
     "output_type": "execute_result"
    }
   ],
   "source": [
    "#conforming if above changes are seen in column\n",
    "\n",
    "data['price'].unique()"
   ]
  },
  {
   "cell_type": "code",
   "execution_count": 75,
   "id": "567aa603",
   "metadata": {},
   "outputs": [
    {
     "data": {
      "text/html": [
       "<div>\n",
       "<style scoped>\n",
       "    .dataframe tbody tr th:only-of-type {\n",
       "        vertical-align: middle;\n",
       "    }\n",
       "\n",
       "    .dataframe tbody tr th {\n",
       "        vertical-align: top;\n",
       "    }\n",
       "\n",
       "    .dataframe thead th {\n",
       "        text-align: right;\n",
       "    }\n",
       "</style>\n",
       "<table border=\"1\" class=\"dataframe\">\n",
       "  <thead>\n",
       "    <tr style=\"text-align: right;\">\n",
       "      <th></th>\n",
       "      <th>brand</th>\n",
       "      <th>model</th>\n",
       "      <th>year</th>\n",
       "      <th>transmission</th>\n",
       "      <th>kms_driven</th>\n",
       "      <th>owner</th>\n",
       "      <th>fuel_type</th>\n",
       "      <th>price</th>\n",
       "      <th>location</th>\n",
       "    </tr>\n",
       "  </thead>\n",
       "  <tbody>\n",
       "    <tr>\n",
       "      <th>0</th>\n",
       "      <td>Maruti</td>\n",
       "      <td>Swift</td>\n",
       "      <td>2020</td>\n",
       "      <td>Manual</td>\n",
       "      <td>22826</td>\n",
       "      <td>1st Owner</td>\n",
       "      <td>Petrol</td>\n",
       "      <td>522000</td>\n",
       "      <td>New Delhi</td>\n",
       "    </tr>\n",
       "    <tr>\n",
       "      <th>1</th>\n",
       "      <td>KIA</td>\n",
       "      <td>SELTOS</td>\n",
       "      <td>2020</td>\n",
       "      <td>Manual</td>\n",
       "      <td>5999</td>\n",
       "      <td>1st Owner</td>\n",
       "      <td>Petrol</td>\n",
       "      <td>1722000</td>\n",
       "      <td>New Delhi</td>\n",
       "    </tr>\n",
       "    <tr>\n",
       "      <th>2</th>\n",
       "      <td>Maruti</td>\n",
       "      <td>Swift</td>\n",
       "      <td>2020</td>\n",
       "      <td>Manual</td>\n",
       "      <td>16691</td>\n",
       "      <td>2nd Owner</td>\n",
       "      <td>Petrol</td>\n",
       "      <td>530000</td>\n",
       "      <td>New Delhi</td>\n",
       "    </tr>\n",
       "    <tr>\n",
       "      <th>3</th>\n",
       "      <td>KIA</td>\n",
       "      <td>SELTOS</td>\n",
       "      <td>2020</td>\n",
       "      <td>Automatic</td>\n",
       "      <td>9417</td>\n",
       "      <td>1st Owner</td>\n",
       "      <td>Petrol</td>\n",
       "      <td>1681000</td>\n",
       "      <td>New Delhi</td>\n",
       "    </tr>\n",
       "    <tr>\n",
       "      <th>4</th>\n",
       "      <td>Hyundai</td>\n",
       "      <td>Grand i10</td>\n",
       "      <td>2019</td>\n",
       "      <td>Manual</td>\n",
       "      <td>19964</td>\n",
       "      <td>1st Owner</td>\n",
       "      <td>Petrol</td>\n",
       "      <td>503000</td>\n",
       "      <td>New Delhi</td>\n",
       "    </tr>\n",
       "  </tbody>\n",
       "</table>\n",
       "</div>"
      ],
      "text/plain": [
       "     brand      model  year transmission kms_driven      owner fuel_type  \\\n",
       "0   Maruti      Swift  2020       Manual     22826   1st Owner    Petrol   \n",
       "1      KIA     SELTOS  2020       Manual      5999   1st Owner    Petrol   \n",
       "2   Maruti      Swift  2020       Manual     16691   2nd Owner    Petrol   \n",
       "3      KIA     SELTOS  2020    Automatic      9417   1st Owner    Petrol   \n",
       "4  Hyundai  Grand i10  2019       Manual     19964   1st Owner    Petrol   \n",
       "\n",
       "     price   location  \n",
       "0   522000  New Delhi  \n",
       "1  1722000  New Delhi  \n",
       "2   530000  New Delhi  \n",
       "3  1681000  New Delhi  \n",
       "4   503000  New Delhi  "
      ]
     },
     "execution_count": 75,
     "metadata": {},
     "output_type": "execute_result"
    }
   ],
   "source": [
    "#printing dataset after making alterations in dataset or after data cleaning\n",
    "\n",
    "data.head()"
   ]
  },
  {
   "cell_type": "code",
   "execution_count": 76,
   "id": "a7a2c6dd",
   "metadata": {},
   "outputs": [
    {
     "data": {
      "text/plain": [
       "brand             0\n",
       "model             0\n",
       "year              0\n",
       "transmission    546\n",
       "kms_driven        0\n",
       "owner             0\n",
       "fuel_type         0\n",
       "price           426\n",
       "location          0\n",
       "dtype: int64"
      ]
     },
     "execution_count": 76,
     "metadata": {},
     "output_type": "execute_result"
    }
   ],
   "source": [
    "#checking for null values in dataset\n",
    "\n",
    "data.isnull().sum()"
   ]
  },
  {
   "cell_type": "code",
   "execution_count": 77,
   "id": "5a383444",
   "metadata": {},
   "outputs": [],
   "source": [
    "#dropping null values\n",
    "\n",
    "data.dropna(inplace=True)"
   ]
  },
  {
   "cell_type": "code",
   "execution_count": 78,
   "id": "c52bb810",
   "metadata": {},
   "outputs": [
    {
     "data": {
      "text/plain": [
       "(4921, 9)"
      ]
     },
     "execution_count": 78,
     "metadata": {},
     "output_type": "execute_result"
    }
   ],
   "source": [
    "#data shape after dropping null values\n",
    "\n",
    "data.shape"
   ]
  },
  {
   "cell_type": "markdown",
   "id": "17f6bd09",
   "metadata": {},
   "source": [
    "# EDA"
   ]
  },
  {
   "cell_type": "code",
   "execution_count": 79,
   "id": "2c1770b1",
   "metadata": {},
   "outputs": [
    {
     "name": "stdout",
     "output_type": "stream",
     "text": [
      "<class 'pandas.core.frame.DataFrame'>\n",
      "Int64Index: 4921 entries, 0 to 7018\n",
      "Data columns (total 9 columns):\n",
      " #   Column        Non-Null Count  Dtype \n",
      "---  ------        --------------  ----- \n",
      " 0   brand         4921 non-null   object\n",
      " 1   model         4921 non-null   object\n",
      " 2   year          4921 non-null   int64 \n",
      " 3   transmission  4921 non-null   object\n",
      " 4   kms_driven    4921 non-null   object\n",
      " 5   owner         4921 non-null   object\n",
      " 6   fuel_type     4921 non-null   object\n",
      " 7   price         4921 non-null   object\n",
      " 8   location      4921 non-null   object\n",
      "dtypes: int64(1), object(8)\n",
      "memory usage: 384.5+ KB\n"
     ]
    }
   ],
   "source": [
    "data.info()"
   ]
  },
  {
   "cell_type": "code",
   "execution_count": 80,
   "id": "8e661e56",
   "metadata": {},
   "outputs": [],
   "source": [
    "#changing datatype of 'kms_driven' and 'prices ' to integer\n",
    "\n",
    "data_dict={'kms_driven':int,'price':int}\n",
    "data=data.astype(data_dict)"
   ]
  },
  {
   "cell_type": "code",
   "execution_count": 81,
   "id": "da8912b6",
   "metadata": {},
   "outputs": [
    {
     "name": "stdout",
     "output_type": "stream",
     "text": [
      "<class 'pandas.core.frame.DataFrame'>\n",
      "Int64Index: 4921 entries, 0 to 7018\n",
      "Data columns (total 9 columns):\n",
      " #   Column        Non-Null Count  Dtype \n",
      "---  ------        --------------  ----- \n",
      " 0   brand         4921 non-null   object\n",
      " 1   model         4921 non-null   object\n",
      " 2   year          4921 non-null   int64 \n",
      " 3   transmission  4921 non-null   object\n",
      " 4   kms_driven    4921 non-null   int32 \n",
      " 5   owner         4921 non-null   object\n",
      " 6   fuel_type     4921 non-null   object\n",
      " 7   price         4921 non-null   int32 \n",
      " 8   location      4921 non-null   object\n",
      "dtypes: int32(2), int64(1), object(6)\n",
      "memory usage: 346.0+ KB\n"
     ]
    }
   ],
   "source": [
    "#confirming of datatypes are changed\n",
    "\n",
    "data.info()"
   ]
  },
  {
   "cell_type": "code",
   "execution_count": 82,
   "id": "eebc55fb",
   "metadata": {},
   "outputs": [
    {
     "data": {
      "text/plain": [
       "Index(['brand', 'model', 'year', 'transmission', 'kms_driven', 'owner',\n",
       "       'fuel_type', 'price', 'location'],\n",
       "      dtype='object')"
      ]
     },
     "execution_count": 82,
     "metadata": {},
     "output_type": "execute_result"
    }
   ],
   "source": [
    "#printing names of columns present in dataset\n",
    "\n",
    "data.columns"
   ]
  },
  {
   "cell_type": "code",
   "execution_count": 83,
   "id": "6cb3cf92",
   "metadata": {},
   "outputs": [
    {
     "name": "stdout",
     "output_type": "stream",
     "text": [
      "['Maruti' 'KIA' 'Hyundai' 'Renault' 'Honda' 'Toyota' 'Tata' 'Datsun'\n",
      " 'Ford' 'Skoda' 'Jeep' 'Mahindra' 'MG' 'Volkswagen' 'Nissan' 'Audi'\n",
      " 'Mercedes']\n",
      "17\n"
     ]
    }
   ],
   "source": [
    "print(data['brand'].unique())\n",
    "print(data['brand'].nunique())"
   ]
  },
  {
   "cell_type": "markdown",
   "id": "07a0a79e",
   "metadata": {},
   "source": [
    "- The above dataset consists of cars data from 17 brands. This includes the premium car brand such as mercedes and audi and sub-premium to entry level brands."
   ]
  },
  {
   "cell_type": "code",
   "execution_count": 84,
   "id": "d5022a62",
   "metadata": {
    "scrolled": true
   },
   "outputs": [
    {
     "name": "stdout",
     "output_type": "stream",
     "text": [
      "['Swift' 'SELTOS' 'Grand i10' 'Kwid' 'Swift Dzire' 'New Wagon-R' 'Celerio'\n",
      " 'City' 'Wagon R 1.0' 'i20' 'Alto K10' 'Alto' 'SONET' 'VENUE' 'Camry'\n",
      " 'Kiger' 'i10' 'Alto 800' 'NEW I20' 'Wagon R Stingray' 'Safari' 'A Star'\n",
      " 'Eon' 'AURA' 'Go Plus' 'Redi Go' 'Ecosport' 'Rapid' 'URBAN CRUISER'\n",
      " 'Baleno' 'Elite i20' 'Verna' 'Compass' 'Thar' 'Ritz' 'ALTROZ' 'Tiago'\n",
      " 'Ciaz' 'S Cross' 'Amaze' 'Glanza' 'YARIS' 'Innova Crysta' 'KUV 100 NXT'\n",
      " 'Brio' 'Dzire' 'NEXON' 'Harrier' 'NEW SANTRO' 'Octavia' 'TRIBER' 'Jazz'\n",
      " 'Duster' 'Figo Aspire' 'Xcent' 'Ertiga' 'Corolla Altis' 'HECTOR' 'Creta'\n",
      " 'WR-V' 'XUV500' 'IGNIS' 'S PRESSO' 'XL6' 'Celerio X' 'Vento' 'MARAZZO'\n",
      " 'Vitara Brezza' 'GRAND I10 NIOS' 'Scorpio' 'Etios' 'Polo' 'Tucson New'\n",
      " 'Micra Active' 'Bolero' 'TUV300' 'i20 Active' 'TIGUAN' 'Hexa' 'XUV 3OO'\n",
      " 'A3' 'Q3' 'Q5' 'BR-V' 'Pulse' 'FREESTYLE' 'Endeavour' 'Ameo'\n",
      " 'Benz E Class' 'TIGOR' 'Etios Liva' 'Zest' 'Civic' 'Micra' 'New Elantra'\n",
      " 'Go' 'Eeco' 'Terrano' 'Santro Xing' 'Wagon R' 'Captur' 'Kuv100'\n",
      " 'Zen Estilo' 'MAGNITE' 'New Figo' 'Fortuner' 'CRV']\n",
      "107\n"
     ]
    }
   ],
   "source": [
    "print(data['model'].unique())\n",
    "print(data['model'].nunique())"
   ]
  },
  {
   "cell_type": "markdown",
   "id": "e62db94c",
   "metadata": {},
   "source": [
    "- Of those 20 brands there are total of 107 models of used cars available for sale."
   ]
  },
  {
   "cell_type": "code",
   "execution_count": 85,
   "id": "ac0a71f6",
   "metadata": {},
   "outputs": [
    {
     "name": "stdout",
     "output_type": "stream",
     "text": [
      "[2020 2019 2016 2009 2021 2022 2010 2011 2014 2013 2012 2015 2018 2017]\n",
      "14\n"
     ]
    }
   ],
   "source": [
    "print(data['year'].unique())\n",
    "print(data['year'].nunique())"
   ]
  },
  {
   "cell_type": "markdown",
   "id": "436a2e9f",
   "metadata": {},
   "source": [
    "- The oldest cars available for sale were registered in year 2009. as seen in above data."
   ]
  },
  {
   "cell_type": "code",
   "execution_count": 31,
   "id": "6eeeefe9",
   "metadata": {},
   "outputs": [
    {
     "name": "stdout",
     "output_type": "stream",
     "text": [
      "['Manual' 'Automatic' 'MAnual']\n",
      "3\n"
     ]
    }
   ],
   "source": [
    "print(data['transmission'].unique())\n",
    "print(data['transmission'].nunique())"
   ]
  },
  {
   "cell_type": "markdown",
   "id": "e1de5347",
   "metadata": {},
   "source": [
    "- There are only 2 types of transmission available in above cars. The third category is just spelling mistake of manual transmission cars"
   ]
  },
  {
   "cell_type": "code",
   "execution_count": 86,
   "id": "4d19aeaa",
   "metadata": {},
   "outputs": [],
   "source": [
    "#Converting/resolving MAnual to Manual transmission in cars.\n",
    "\n",
    "data['transmission']=data['transmission'].replace('MAnual','Manual')"
   ]
  },
  {
   "cell_type": "code",
   "execution_count": 87,
   "id": "bb3f53b5",
   "metadata": {},
   "outputs": [
    {
     "data": {
      "text/plain": [
       "array(['Manual', 'Automatic'], dtype=object)"
      ]
     },
     "execution_count": 87,
     "metadata": {},
     "output_type": "execute_result"
    }
   ],
   "source": [
    "#confirming if issue is resolved\n",
    "\n",
    "data['transmission'].unique()"
   ]
  },
  {
   "cell_type": "code",
   "execution_count": 88,
   "id": "5276ce60",
   "metadata": {},
   "outputs": [
    {
     "name": "stdout",
     "output_type": "stream",
     "text": [
      "[22826  5999 16691 ... 61768 67853 49015]\n",
      "3962\n"
     ]
    }
   ],
   "source": [
    "print(data['kms_driven'].unique())\n",
    "print(data['kms_driven'].nunique())"
   ]
  },
  {
   "cell_type": "code",
   "execution_count": 89,
   "id": "541e384e",
   "metadata": {},
   "outputs": [
    {
     "name": "stdout",
     "output_type": "stream",
     "text": [
      "['1st Owner' '2nd Owner' '3rd Owner']\n",
      "3\n"
     ]
    }
   ],
   "source": [
    "print(data['owner'].unique())\n",
    "print(data['owner'].nunique())"
   ]
  },
  {
   "cell_type": "markdown",
   "id": "45363e8a",
   "metadata": {},
   "source": [
    "- These dataset shows cars previously owned by 1, 2 or 3 owners."
   ]
  },
  {
   "cell_type": "code",
   "execution_count": 90,
   "id": "c5493dce",
   "metadata": {},
   "outputs": [
    {
     "name": "stdout",
     "output_type": "stream",
     "text": [
      "['Petrol' 'CNG' 'Diesel']\n",
      "3\n"
     ]
    }
   ],
   "source": [
    "print(data['fuel_type'].unique())\n",
    "print(data['fuel_type'].nunique())"
   ]
  },
  {
   "cell_type": "markdown",
   "id": "b244ef1d",
   "metadata": {},
   "source": [
    "- The used cars for sale either runs on petrol, cng or diesel fuel."
   ]
  },
  {
   "cell_type": "code",
   "execution_count": 91,
   "id": "759b22e4",
   "metadata": {},
   "outputs": [
    {
     "name": "stdout",
     "output_type": "stream",
     "text": [
      "[ 522000 1722000  530000 ...  219000 1385000  227000]\n",
      "1119\n"
     ]
    }
   ],
   "source": [
    "print(data['price'].unique())\n",
    "print(data['price'].nunique())"
   ]
  },
  {
   "cell_type": "markdown",
   "id": "6b2255b1",
   "metadata": {},
   "source": [
    "- This is a target column. This shows that many cars have same or equal prices irrespective of car type and model."
   ]
  },
  {
   "cell_type": "code",
   "execution_count": 92,
   "id": "b284627e",
   "metadata": {},
   "outputs": [
    {
     "name": "stdout",
     "output_type": "stream",
     "text": [
      "['New Delhi' 'Mumbai' 'Bangalore' 'Hyderabad' 'Ahmedabad' 'Gurgaon'\n",
      " 'Chennai' 'Pune']\n",
      "8\n"
     ]
    }
   ],
   "source": [
    "print(data['location'].unique())\n",
    "print(data['location'].nunique())"
   ]
  },
  {
   "cell_type": "markdown",
   "id": "bd6b2a3b",
   "metadata": {},
   "source": [
    "- This dataset contains used cars data from 8 different location which are mentioned above."
   ]
  },
  {
   "cell_type": "code",
   "execution_count": 39,
   "id": "9a03ef14",
   "metadata": {
    "scrolled": true
   },
   "outputs": [
    {
     "data": {
      "image/png": "[encoded data removed]",
      "text/plain": [
       "<Figure size 1800x1800 with 9 Axes>"
      ]
     },
     "metadata": {
      "needs_background": "light"
     },
     "output_type": "display_data"
    }
   ],
   "source": [
    "plt.figure(figsize=(25,25))\n",
    "plotnumber=1\n",
    "\n",
    "for column in data:\n",
    "    if plotnumber<=9:\n",
    "        ax=plt.subplot(3,3,plotnumber)\n",
    "        sns.countplot(data[column])\n",
    "        plt.xticks(rotation=90)\n",
    "        plt.xlabel(column)\n",
    "    plotnumber+=1\n",
    "plt.show()"
   ]
  },
  {
   "cell_type": "code",
   "execution_count": 40,
   "id": "91a1f2d1",
   "metadata": {},
   "outputs": [
    {
     "data": {
      "text/plain": [
       "Grand i10       318\n",
       "Wagon R 1.0     284\n",
       "Swift           280\n",
       "Baleno          253\n",
       "Elite i20       236\n",
       "               ... \n",
       "Q3                2\n",
       "CRV               2\n",
       "Benz E Class      1\n",
       "MAGNITE           1\n",
       "Fortuner          1\n",
       "Name: model, Length: 107, dtype: int64"
      ]
     },
     "execution_count": 40,
     "metadata": {},
     "output_type": "execute_result"
    }
   ],
   "source": [
    "data['model'].value_counts()"
   ]
  },
  {
   "cell_type": "markdown",
   "id": "53b311fb",
   "metadata": {},
   "source": [
    "# Observations for above plots\n",
    " - Incase of car brands, The most number of cars that are for sale are from Maruti brand while least are from Mercedes brand.\n",
    " - Incase of model of cars, Grand i10 is the most available car for sale followed by Wagonr and swift.\n",
    " - incase of years of cars, most cars for sale are from the year 2018 followed by 2019 and 2017. The least cars for sale are  from the year 2009.\n",
    " - Incase of transmission, most number of cars for sale are  with manual tranmission while very less cars are with automatic transmission.\n",
    " - Most number of cars are owned by single person, while approx. 1000 cars had 2 owners in its lifetime while some cars were owned by 3 people.\n",
    " - Most number of used cars for sale run on petrol while very less number of cars run on cng and diesel.\n",
    " - Most number of cars for sale are from Gurgaon region while less number of cars for sale are from Ahmdedabad region."
   ]
  },
  {
   "cell_type": "code",
   "execution_count": 41,
   "id": "bf397ee8",
   "metadata": {},
   "outputs": [
    {
     "data": {
      "text/plain": [
       "Index(['brand', 'model', 'year', 'transmission', 'kms_driven', 'owner',\n",
       "       'fuel_type', 'price', 'location'],\n",
       "      dtype='object')"
      ]
     },
     "execution_count": 41,
     "metadata": {},
     "output_type": "execute_result"
    }
   ],
   "source": [
    "data.columns"
   ]
  },
  {
   "cell_type": "code",
   "execution_count": 48,
   "id": "1d4ca848",
   "metadata": {},
   "outputs": [
    {
     "data": {
      "text/plain": [
       "<AxesSubplot:xlabel='price', ylabel='brand'>"
      ]
     },
     "execution_count": 48,
     "metadata": {},
     "output_type": "execute_result"
    },
    {
     "data": {
      "image/png": "[encoded data removed]",
      "text/plain": [
       "<Figure size 432x288 with 1 Axes>"
      ]
     },
     "metadata": {
      "needs_background": "light"
     },
     "output_type": "display_data"
    }
   ],
   "source": [
    "sns.barplot(x='price',y='brand',data=data)"
   ]
  },
  {
   "cell_type": "markdown",
   "id": "34c017c4",
   "metadata": {},
   "source": [
    "- It can be seen from the plot that though as seen earlier Maruti has highest number of cars for sale but their unit car price is low compared to other brands. MG brand has their cars priced higher for resale, followed by Jeep, Audi and Kia."
   ]
  },
  {
   "cell_type": "code",
   "execution_count": 57,
   "id": "71de4829",
   "metadata": {},
   "outputs": [
    {
     "data": {
      "image/png": "[encoded data removed]",
      "text/plain": [
       "<Figure size 504x1224 with 1 Axes>"
      ]
     },
     "metadata": {
      "needs_background": "light"
     },
     "output_type": "display_data"
    }
   ],
   "source": [
    "plt.figure(figsize=(7,17))\n",
    "sns.barplot(x='price',y='model',data=data)\n",
    "plt.show()"
   ]
  },
  {
   "cell_type": "markdown",
   "id": "d06c1366",
   "metadata": {},
   "source": [
    "- It is seen that Endeavour, Fortuner, Innova Crysta and Safari cars are priced higher compared to other cars."
   ]
  },
  {
   "cell_type": "code",
   "execution_count": 65,
   "id": "e1ff570d",
   "metadata": {
    "scrolled": true
   },
   "outputs": [
    {
     "data": {
      "text/plain": [
       "<AxesSubplot:xlabel='price', ylabel='transmission'>"
      ]
     },
     "execution_count": 65,
     "metadata": {},
     "output_type": "execute_result"
    },
    {
     "data": {
      "image/png": "[encoded data removed]",
      "text/plain": [
       "<Figure size 432x288 with 1 Axes>"
      ]
     },
     "metadata": {
      "needs_background": "light"
     },
     "output_type": "display_data"
    }
   ],
   "source": [
    "sns.barplot(x='price',y='transmission',data=data)"
   ]
  },
  {
   "cell_type": "markdown",
   "id": "d2419b8f",
   "metadata": {},
   "source": [
    "- Automatic cars are priced higher compared to manual transmission cars."
   ]
  },
  {
   "cell_type": "code",
   "execution_count": 66,
   "id": "85d889c6",
   "metadata": {
    "scrolled": true
   },
   "outputs": [
    {
     "data": {
      "text/plain": [
       "<AxesSubplot:xlabel='price', ylabel='kms_driven'>"
      ]
     },
     "execution_count": 66,
     "metadata": {},
     "output_type": "execute_result"
    },
    {
     "data": {
      "image/png": "[encoded data removed]",
      "text/plain": [
       "<Figure size 432x288 with 1 Axes>"
      ]
     },
     "metadata": {
      "needs_background": "light"
     },
     "output_type": "display_data"
    }
   ],
   "source": [
    "sns.scatterplot(x='price',y='kms_driven',data=data)"
   ]
  },
  {
   "cell_type": "markdown",
   "id": "48b8539d",
   "metadata": {},
   "source": [
    "- There is no direct relationship seen in this plot."
   ]
  },
  {
   "cell_type": "code",
   "execution_count": 70,
   "id": "cc608e10",
   "metadata": {},
   "outputs": [
    {
     "data": {
      "text/plain": [
       "<AxesSubplot:xlabel='price', ylabel='owner'>"
      ]
     },
     "execution_count": 70,
     "metadata": {},
     "output_type": "execute_result"
    },
    {
     "data": {
      "image/png": "[encoded data removed]",
      "text/plain": [
       "<Figure size 432x288 with 1 Axes>"
      ]
     },
     "metadata": {
      "needs_background": "light"
     },
     "output_type": "display_data"
    }
   ],
   "source": [
    "sns.barplot(x='price',y='owner',data=data)"
   ]
  },
  {
   "cell_type": "markdown",
   "id": "fe3b4e99",
   "metadata": {},
   "source": [
    "- the cars that are owned by 3 owners are priced lower compared to cars owned by 2 and single owner."
   ]
  },
  {
   "cell_type": "code",
   "execution_count": 68,
   "id": "7e3e4933",
   "metadata": {
    "scrolled": true
   },
   "outputs": [
    {
     "data": {
      "text/plain": [
       "<AxesSubplot:xlabel='price', ylabel='fuel_type'>"
      ]
     },
     "execution_count": 68,
     "metadata": {},
     "output_type": "execute_result"
    },
    {
     "data": {
      "image/png": "[encoded data removed]",
      "text/plain": [
       "<Figure size 432x288 with 1 Axes>"
      ]
     },
     "metadata": {
      "needs_background": "light"
     },
     "output_type": "display_data"
    }
   ],
   "source": [
    "sns.barplot(x='price',y='fuel_type',data=data)"
   ]
  },
  {
   "cell_type": "markdown",
   "id": "f27b9817",
   "metadata": {},
   "source": [
    "- The diesel powered cars are priced higher followed by petrol cars. The cheapest cars are with CNG fuel."
   ]
  },
  {
   "cell_type": "code",
   "execution_count": 93,
   "id": "4de73b21",
   "metadata": {
    "scrolled": true
   },
   "outputs": [
    {
     "data": {
      "text/plain": [
       "<AxesSubplot:xlabel='price', ylabel='location'>"
      ]
     },
     "execution_count": 93,
     "metadata": {},
     "output_type": "execute_result"
    },
    {
     "data": {
      "image/png": "[encoded data removed]",
      "text/plain": [
       "<Figure size 432x288 with 1 Axes>"
      ]
     },
     "metadata": {
      "needs_background": "light"
     },
     "output_type": "display_data"
    }
   ],
   "source": [
    "sns.barplot(x='price',y='location',data=data)"
   ]
  },
  {
   "cell_type": "markdown",
   "id": "7d466359",
   "metadata": {},
   "source": [
    "- It can be seen from the plot that cars from Mumbai are priced higher compared to other cities or locations."
   ]
  },
  {
   "cell_type": "code",
   "execution_count": 46,
   "id": "e24b1d24",
   "metadata": {},
   "outputs": [
    {
     "data": {
      "image/png": "[encoded data removed]",
      "text/plain": [
       "<Figure size 432x288 with 1 Axes>"
      ]
     },
     "metadata": {
      "needs_background": "light"
     },
     "output_type": "display_data"
    }
   ],
   "source": [
    "sns.lineplot(x='brand',y='year',data=data)\n",
    "plt.xticks(rotation=90)\n",
    "plt.show()"
   ]
  },
  {
   "cell_type": "markdown",
   "id": "11852948",
   "metadata": {},
   "source": [
    "- It can be seen that Maruti, Tata and MG brand cars for sale are mostly new cars while cars from brands like Nissan, Audi and Mercedes are older ones."
   ]
  },
  {
   "cell_type": "code",
   "execution_count": 56,
   "id": "5da7bf30",
   "metadata": {},
   "outputs": [
    {
     "data": {
      "image/png": "[encoded data removed]",
      "text/plain": [
       "<Figure size 432x288 with 1 Axes>"
      ]
     },
     "metadata": {
      "needs_background": "light"
     },
     "output_type": "display_data"
    }
   ],
   "source": [
    "sns.lineplot(x='year',y='price',data=data)\n",
    "plt.xticks(rotation=90)\n",
    "plt.show()"
   ]
  },
  {
   "cell_type": "markdown",
   "id": "9f481b26",
   "metadata": {},
   "source": [
    "- It can be seen that the cars which are new are priced higher compared to cars that are old. The oldest cars from year 2009 are priced lowest."
   ]
  },
  {
   "cell_type": "markdown",
   "id": "629c1c15",
   "metadata": {},
   "source": [
    "# Top 10 cars with lowest resale value across all locations"
   ]
  },
  {
   "cell_type": "code",
   "execution_count": 107,
   "id": "20a128ec",
   "metadata": {},
   "outputs": [
    {
     "data": {
      "text/html": [
       "<div>\n",
       "<style scoped>\n",
       "    .dataframe tbody tr th:only-of-type {\n",
       "        vertical-align: middle;\n",
       "    }\n",
       "\n",
       "    .dataframe tbody tr th {\n",
       "        vertical-align: top;\n",
       "    }\n",
       "\n",
       "    .dataframe thead th {\n",
       "        text-align: right;\n",
       "    }\n",
       "</style>\n",
       "<table border=\"1\" class=\"dataframe\">\n",
       "  <thead>\n",
       "    <tr style=\"text-align: right;\">\n",
       "      <th></th>\n",
       "      <th>brand</th>\n",
       "      <th>model</th>\n",
       "      <th>year</th>\n",
       "      <th>transmission</th>\n",
       "      <th>kms_driven</th>\n",
       "      <th>owner</th>\n",
       "      <th>fuel_type</th>\n",
       "      <th>price</th>\n",
       "      <th>location</th>\n",
       "    </tr>\n",
       "  </thead>\n",
       "  <tbody>\n",
       "    <tr>\n",
       "      <th>4524</th>\n",
       "      <td>Maruti</td>\n",
       "      <td>Alto</td>\n",
       "      <td>2010</td>\n",
       "      <td>Manual</td>\n",
       "      <td>41028</td>\n",
       "      <td>1st Owner</td>\n",
       "      <td>Petrol</td>\n",
       "      <td>148000</td>\n",
       "      <td>Gurgaon</td>\n",
       "    </tr>\n",
       "    <tr>\n",
       "      <th>4523</th>\n",
       "      <td>Maruti</td>\n",
       "      <td>Alto</td>\n",
       "      <td>2010</td>\n",
       "      <td>Manual</td>\n",
       "      <td>24884</td>\n",
       "      <td>1st Owner</td>\n",
       "      <td>Petrol</td>\n",
       "      <td>158000</td>\n",
       "      <td>Gurgaon</td>\n",
       "    </tr>\n",
       "    <tr>\n",
       "      <th>4579</th>\n",
       "      <td>Maruti</td>\n",
       "      <td>Alto</td>\n",
       "      <td>2010</td>\n",
       "      <td>Manual</td>\n",
       "      <td>48178</td>\n",
       "      <td>2nd Owner</td>\n",
       "      <td>Petrol</td>\n",
       "      <td>163000</td>\n",
       "      <td>Gurgaon</td>\n",
       "    </tr>\n",
       "    <tr>\n",
       "      <th>3638</th>\n",
       "      <td>Maruti</td>\n",
       "      <td>Alto</td>\n",
       "      <td>2010</td>\n",
       "      <td>Manual</td>\n",
       "      <td>55637</td>\n",
       "      <td>1st Owner</td>\n",
       "      <td>Petrol</td>\n",
       "      <td>171000</td>\n",
       "      <td>Gurgaon</td>\n",
       "    </tr>\n",
       "    <tr>\n",
       "      <th>30</th>\n",
       "      <td>Maruti</td>\n",
       "      <td>Alto</td>\n",
       "      <td>2010</td>\n",
       "      <td>Manual</td>\n",
       "      <td>55637</td>\n",
       "      <td>1st Owner</td>\n",
       "      <td>Petrol</td>\n",
       "      <td>172000</td>\n",
       "      <td>New Delhi</td>\n",
       "    </tr>\n",
       "    <tr>\n",
       "      <th>4526</th>\n",
       "      <td>Maruti</td>\n",
       "      <td>Alto</td>\n",
       "      <td>2011</td>\n",
       "      <td>Manual</td>\n",
       "      <td>12030</td>\n",
       "      <td>2nd Owner</td>\n",
       "      <td>Petrol</td>\n",
       "      <td>174000</td>\n",
       "      <td>Gurgaon</td>\n",
       "    </tr>\n",
       "    <tr>\n",
       "      <th>4521</th>\n",
       "      <td>Maruti</td>\n",
       "      <td>Alto K10</td>\n",
       "      <td>2011</td>\n",
       "      <td>Manual</td>\n",
       "      <td>48643</td>\n",
       "      <td>1st Owner</td>\n",
       "      <td>Petrol</td>\n",
       "      <td>176000</td>\n",
       "      <td>Gurgaon</td>\n",
       "    </tr>\n",
       "    <tr>\n",
       "      <th>24</th>\n",
       "      <td>Maruti</td>\n",
       "      <td>Alto K10</td>\n",
       "      <td>2011</td>\n",
       "      <td>Manual</td>\n",
       "      <td>48643</td>\n",
       "      <td>1st Owner</td>\n",
       "      <td>Petrol</td>\n",
       "      <td>176000</td>\n",
       "      <td>New Delhi</td>\n",
       "    </tr>\n",
       "    <tr>\n",
       "      <th>1674</th>\n",
       "      <td>Maruti</td>\n",
       "      <td>Alto</td>\n",
       "      <td>2010</td>\n",
       "      <td>Manual</td>\n",
       "      <td>63805</td>\n",
       "      <td>2nd Owner</td>\n",
       "      <td>Petrol</td>\n",
       "      <td>180000</td>\n",
       "      <td>Bangalore</td>\n",
       "    </tr>\n",
       "    <tr>\n",
       "      <th>2556</th>\n",
       "      <td>Maruti</td>\n",
       "      <td>Alto</td>\n",
       "      <td>2010</td>\n",
       "      <td>Manual</td>\n",
       "      <td>47633</td>\n",
       "      <td>2nd Owner</td>\n",
       "      <td>Petrol</td>\n",
       "      <td>180000</td>\n",
       "      <td>Hyderabad</td>\n",
       "    </tr>\n",
       "  </tbody>\n",
       "</table>\n",
       "</div>"
      ],
      "text/plain": [
       "       brand     model  year transmission  kms_driven      owner fuel_type  \\\n",
       "4524  Maruti      Alto  2010       Manual       41028  1st Owner    Petrol   \n",
       "4523  Maruti      Alto  2010       Manual       24884  1st Owner    Petrol   \n",
       "4579  Maruti      Alto  2010       Manual       48178  2nd Owner    Petrol   \n",
       "3638  Maruti      Alto  2010       Manual       55637  1st Owner    Petrol   \n",
       "30    Maruti      Alto  2010       Manual       55637  1st Owner    Petrol   \n",
       "4526  Maruti      Alto  2011       Manual       12030  2nd Owner    Petrol   \n",
       "4521  Maruti  Alto K10  2011       Manual       48643  1st Owner    Petrol   \n",
       "24    Maruti  Alto K10  2011       Manual       48643  1st Owner    Petrol   \n",
       "1674  Maruti      Alto  2010       Manual       63805  2nd Owner    Petrol   \n",
       "2556  Maruti      Alto  2010       Manual       47633  2nd Owner    Petrol   \n",
       "\n",
       "       price   location  \n",
       "4524  148000    Gurgaon  \n",
       "4523  158000    Gurgaon  \n",
       "4579  163000    Gurgaon  \n",
       "3638  171000    Gurgaon  \n",
       "30    172000  New Delhi  \n",
       "4526  174000    Gurgaon  \n",
       "4521  176000    Gurgaon  \n",
       "24    176000  New Delhi  \n",
       "1674  180000  Bangalore  \n",
       "2556  180000  Hyderabad  "
      ]
     },
     "execution_count": 107,
     "metadata": {},
     "output_type": "execute_result"
    }
   ],
   "source": [
    "\n",
    "data.sort_values('price',ascending=True)[:10]"
   ]
  },
  {
   "cell_type": "markdown",
   "id": "9cf78627",
   "metadata": {},
   "source": [
    "- The above column shows that top 10 cars which has lowest resale value are from Maruti and car is Alto. ALso this table consists only petrol cars."
   ]
  },
  {
   "cell_type": "markdown",
   "id": "6830c4b0",
   "metadata": {},
   "source": [
    "# Top 10 cars with highest resale value across all locations"
   ]
  },
  {
   "cell_type": "code",
   "execution_count": 106,
   "id": "31c17d2a",
   "metadata": {},
   "outputs": [
    {
     "data": {
      "text/html": [
       "<div>\n",
       "<style scoped>\n",
       "    .dataframe tbody tr th:only-of-type {\n",
       "        vertical-align: middle;\n",
       "    }\n",
       "\n",
       "    .dataframe tbody tr th {\n",
       "        vertical-align: top;\n",
       "    }\n",
       "\n",
       "    .dataframe thead th {\n",
       "        text-align: right;\n",
       "    }\n",
       "</style>\n",
       "<table border=\"1\" class=\"dataframe\">\n",
       "  <thead>\n",
       "    <tr style=\"text-align: right;\">\n",
       "      <th></th>\n",
       "      <th>brand</th>\n",
       "      <th>model</th>\n",
       "      <th>year</th>\n",
       "      <th>transmission</th>\n",
       "      <th>kms_driven</th>\n",
       "      <th>owner</th>\n",
       "      <th>fuel_type</th>\n",
       "      <th>price</th>\n",
       "      <th>location</th>\n",
       "    </tr>\n",
       "  </thead>\n",
       "  <tbody>\n",
       "    <tr>\n",
       "      <th>1056</th>\n",
       "      <td>Ford</td>\n",
       "      <td>Endeavour</td>\n",
       "      <td>2017</td>\n",
       "      <td>Automatic</td>\n",
       "      <td>39662</td>\n",
       "      <td>1st Owner</td>\n",
       "      <td>Diesel</td>\n",
       "      <td>2880000</td>\n",
       "      <td>Mumbai</td>\n",
       "    </tr>\n",
       "    <tr>\n",
       "      <th>1010</th>\n",
       "      <td>Ford</td>\n",
       "      <td>Endeavour</td>\n",
       "      <td>2018</td>\n",
       "      <td>Automatic</td>\n",
       "      <td>76544</td>\n",
       "      <td>1st Owner</td>\n",
       "      <td>Diesel</td>\n",
       "      <td>2809000</td>\n",
       "      <td>Mumbai</td>\n",
       "    </tr>\n",
       "    <tr>\n",
       "      <th>3542</th>\n",
       "      <td>Toyota</td>\n",
       "      <td>Innova Crysta</td>\n",
       "      <td>2021</td>\n",
       "      <td>Automatic</td>\n",
       "      <td>6205</td>\n",
       "      <td>1st Owner</td>\n",
       "      <td>Diesel</td>\n",
       "      <td>2730000</td>\n",
       "      <td>Gurgaon</td>\n",
       "    </tr>\n",
       "    <tr>\n",
       "      <th>195</th>\n",
       "      <td>Toyota</td>\n",
       "      <td>Innova Crysta</td>\n",
       "      <td>2021</td>\n",
       "      <td>Automatic</td>\n",
       "      <td>6205</td>\n",
       "      <td>1st Owner</td>\n",
       "      <td>Diesel</td>\n",
       "      <td>2730000</td>\n",
       "      <td>New Delhi</td>\n",
       "    </tr>\n",
       "    <tr>\n",
       "      <th>4630</th>\n",
       "      <td>Toyota</td>\n",
       "      <td>Fortuner</td>\n",
       "      <td>2018</td>\n",
       "      <td>Automatic</td>\n",
       "      <td>86567</td>\n",
       "      <td>1st Owner</td>\n",
       "      <td>Diesel</td>\n",
       "      <td>2689000</td>\n",
       "      <td>Gurgaon</td>\n",
       "    </tr>\n",
       "    <tr>\n",
       "      <th>6662</th>\n",
       "      <td>Tata</td>\n",
       "      <td>Safari</td>\n",
       "      <td>2022</td>\n",
       "      <td>Automatic</td>\n",
       "      <td>6906</td>\n",
       "      <td>1st Owner</td>\n",
       "      <td>Diesel</td>\n",
       "      <td>2487000</td>\n",
       "      <td>Pune</td>\n",
       "    </tr>\n",
       "    <tr>\n",
       "      <th>6961</th>\n",
       "      <td>Tata</td>\n",
       "      <td>Harrier</td>\n",
       "      <td>2021</td>\n",
       "      <td>Automatic</td>\n",
       "      <td>15213</td>\n",
       "      <td>1st Owner</td>\n",
       "      <td>Diesel</td>\n",
       "      <td>2256000</td>\n",
       "      <td>Pune</td>\n",
       "    </tr>\n",
       "    <tr>\n",
       "      <th>6764</th>\n",
       "      <td>Tata</td>\n",
       "      <td>Harrier</td>\n",
       "      <td>2021</td>\n",
       "      <td>Automatic</td>\n",
       "      <td>64614</td>\n",
       "      <td>1st Owner</td>\n",
       "      <td>Diesel</td>\n",
       "      <td>2213000</td>\n",
       "      <td>Pune</td>\n",
       "    </tr>\n",
       "    <tr>\n",
       "      <th>3707</th>\n",
       "      <td>Tata</td>\n",
       "      <td>Harrier</td>\n",
       "      <td>2022</td>\n",
       "      <td>Automatic</td>\n",
       "      <td>7788</td>\n",
       "      <td>1st Owner</td>\n",
       "      <td>Diesel</td>\n",
       "      <td>2154000</td>\n",
       "      <td>Gurgaon</td>\n",
       "    </tr>\n",
       "    <tr>\n",
       "      <th>221</th>\n",
       "      <td>Tata</td>\n",
       "      <td>Harrier</td>\n",
       "      <td>2022</td>\n",
       "      <td>Automatic</td>\n",
       "      <td>7788</td>\n",
       "      <td>1st Owner</td>\n",
       "      <td>Diesel</td>\n",
       "      <td>2154000</td>\n",
       "      <td>New Delhi</td>\n",
       "    </tr>\n",
       "  </tbody>\n",
       "</table>\n",
       "</div>"
      ],
      "text/plain": [
       "       brand          model  year transmission  kms_driven      owner  \\\n",
       "1056    Ford      Endeavour  2017    Automatic       39662  1st Owner   \n",
       "1010    Ford      Endeavour  2018    Automatic       76544  1st Owner   \n",
       "3542  Toyota  Innova Crysta  2021    Automatic        6205  1st Owner   \n",
       "195   Toyota  Innova Crysta  2021    Automatic        6205  1st Owner   \n",
       "4630  Toyota       Fortuner  2018    Automatic       86567  1st Owner   \n",
       "6662    Tata         Safari  2022    Automatic        6906  1st Owner   \n",
       "6961    Tata        Harrier  2021    Automatic       15213  1st Owner   \n",
       "6764    Tata        Harrier  2021    Automatic       64614  1st Owner   \n",
       "3707    Tata        Harrier  2022    Automatic        7788  1st Owner   \n",
       "221     Tata        Harrier  2022    Automatic        7788  1st Owner   \n",
       "\n",
       "     fuel_type    price   location  \n",
       "1056    Diesel  2880000     Mumbai  \n",
       "1010    Diesel  2809000     Mumbai  \n",
       "3542    Diesel  2730000    Gurgaon  \n",
       "195     Diesel  2730000  New Delhi  \n",
       "4630    Diesel  2689000    Gurgaon  \n",
       "6662    Diesel  2487000       Pune  \n",
       "6961    Diesel  2256000       Pune  \n",
       "6764    Diesel  2213000       Pune  \n",
       "3707    Diesel  2154000    Gurgaon  \n",
       "221     Diesel  2154000  New Delhi  "
      ]
     },
     "execution_count": 106,
     "metadata": {},
     "output_type": "execute_result"
    }
   ],
   "source": [
    "data.sort_values('price',ascending=False)[:10]"
   ]
  },
  {
   "cell_type": "markdown",
   "id": "74e89b50",
   "metadata": {},
   "source": [
    "- The above table shows that highest priced car is Endeavour followed by Innova Crysta, Fortuner, Safari and Harrier. All the cars have automatic transmission, owned by 1 owner and have diesel fuel type."
   ]
  },
  {
   "cell_type": "markdown",
   "id": "9815f1f6",
   "metadata": {},
   "source": [
    "# Top 10 cars with highest kilometers driven across all locations"
   ]
  },
  {
   "cell_type": "code",
   "execution_count": 112,
   "id": "56683d46",
   "metadata": {},
   "outputs": [
    {
     "data": {
      "text/html": [
       "<div>\n",
       "<style scoped>\n",
       "    .dataframe tbody tr th:only-of-type {\n",
       "        vertical-align: middle;\n",
       "    }\n",
       "\n",
       "    .dataframe tbody tr th {\n",
       "        vertical-align: top;\n",
       "    }\n",
       "\n",
       "    .dataframe thead th {\n",
       "        text-align: right;\n",
       "    }\n",
       "</style>\n",
       "<table border=\"1\" class=\"dataframe\">\n",
       "  <thead>\n",
       "    <tr style=\"text-align: right;\">\n",
       "      <th></th>\n",
       "      <th>brand</th>\n",
       "      <th>model</th>\n",
       "      <th>year</th>\n",
       "      <th>transmission</th>\n",
       "      <th>kms_driven</th>\n",
       "      <th>owner</th>\n",
       "      <th>fuel_type</th>\n",
       "      <th>price</th>\n",
       "      <th>location</th>\n",
       "    </tr>\n",
       "  </thead>\n",
       "  <tbody>\n",
       "    <tr>\n",
       "      <th>644</th>\n",
       "      <td>Toyota</td>\n",
       "      <td>Corolla Altis</td>\n",
       "      <td>2015</td>\n",
       "      <td>Manual</td>\n",
       "      <td>100530</td>\n",
       "      <td>1st Owner</td>\n",
       "      <td>Petrol</td>\n",
       "      <td>830000</td>\n",
       "      <td>New Delhi</td>\n",
       "    </tr>\n",
       "    <tr>\n",
       "      <th>4446</th>\n",
       "      <td>Toyota</td>\n",
       "      <td>Corolla Altis</td>\n",
       "      <td>2015</td>\n",
       "      <td>Manual</td>\n",
       "      <td>100530</td>\n",
       "      <td>1st Owner</td>\n",
       "      <td>Petrol</td>\n",
       "      <td>830000</td>\n",
       "      <td>Gurgaon</td>\n",
       "    </tr>\n",
       "    <tr>\n",
       "      <th>4641</th>\n",
       "      <td>Maruti</td>\n",
       "      <td>Ciaz</td>\n",
       "      <td>2016</td>\n",
       "      <td>Manual</td>\n",
       "      <td>100441</td>\n",
       "      <td>1st Owner</td>\n",
       "      <td>Petrol</td>\n",
       "      <td>519000</td>\n",
       "      <td>Gurgaon</td>\n",
       "    </tr>\n",
       "    <tr>\n",
       "      <th>801</th>\n",
       "      <td>Maruti</td>\n",
       "      <td>Ciaz</td>\n",
       "      <td>2016</td>\n",
       "      <td>Manual</td>\n",
       "      <td>100441</td>\n",
       "      <td>1st Owner</td>\n",
       "      <td>Petrol</td>\n",
       "      <td>519000</td>\n",
       "      <td>New Delhi</td>\n",
       "    </tr>\n",
       "    <tr>\n",
       "      <th>4386</th>\n",
       "      <td>Maruti</td>\n",
       "      <td>Baleno</td>\n",
       "      <td>2016</td>\n",
       "      <td>Manual</td>\n",
       "      <td>100245</td>\n",
       "      <td>1st Owner</td>\n",
       "      <td>Petrol</td>\n",
       "      <td>504000</td>\n",
       "      <td>Gurgaon</td>\n",
       "    </tr>\n",
       "    <tr>\n",
       "      <th>870</th>\n",
       "      <td>Maruti</td>\n",
       "      <td>Baleno</td>\n",
       "      <td>2016</td>\n",
       "      <td>Manual</td>\n",
       "      <td>100245</td>\n",
       "      <td>1st Owner</td>\n",
       "      <td>Petrol</td>\n",
       "      <td>504000</td>\n",
       "      <td>New Delhi</td>\n",
       "    </tr>\n",
       "    <tr>\n",
       "      <th>2668</th>\n",
       "      <td>Hyundai</td>\n",
       "      <td>Elite i20</td>\n",
       "      <td>2014</td>\n",
       "      <td>Manual</td>\n",
       "      <td>100175</td>\n",
       "      <td>2nd Owner</td>\n",
       "      <td>Petrol</td>\n",
       "      <td>510000</td>\n",
       "      <td>Hyderabad</td>\n",
       "    </tr>\n",
       "    <tr>\n",
       "      <th>2089</th>\n",
       "      <td>Maruti</td>\n",
       "      <td>Ritz</td>\n",
       "      <td>2011</td>\n",
       "      <td>Manual</td>\n",
       "      <td>100163</td>\n",
       "      <td>1st Owner</td>\n",
       "      <td>Petrol</td>\n",
       "      <td>315000</td>\n",
       "      <td>Bangalore</td>\n",
       "    </tr>\n",
       "    <tr>\n",
       "      <th>1778</th>\n",
       "      <td>Honda</td>\n",
       "      <td>City</td>\n",
       "      <td>2014</td>\n",
       "      <td>Manual</td>\n",
       "      <td>99970</td>\n",
       "      <td>1st Owner</td>\n",
       "      <td>Petrol</td>\n",
       "      <td>538000</td>\n",
       "      <td>Bangalore</td>\n",
       "    </tr>\n",
       "    <tr>\n",
       "      <th>1611</th>\n",
       "      <td>Hyundai</td>\n",
       "      <td>Creta</td>\n",
       "      <td>2017</td>\n",
       "      <td>Manual</td>\n",
       "      <td>99940</td>\n",
       "      <td>1st Owner</td>\n",
       "      <td>Petrol</td>\n",
       "      <td>774000</td>\n",
       "      <td>Mumbai</td>\n",
       "    </tr>\n",
       "  </tbody>\n",
       "</table>\n",
       "</div>"
      ],
      "text/plain": [
       "        brand          model  year transmission  kms_driven      owner  \\\n",
       "644    Toyota  Corolla Altis  2015       Manual      100530  1st Owner   \n",
       "4446   Toyota  Corolla Altis  2015       Manual      100530  1st Owner   \n",
       "4641   Maruti           Ciaz  2016       Manual      100441  1st Owner   \n",
       "801    Maruti           Ciaz  2016       Manual      100441  1st Owner   \n",
       "4386   Maruti         Baleno  2016       Manual      100245  1st Owner   \n",
       "870    Maruti         Baleno  2016       Manual      100245  1st Owner   \n",
       "2668  Hyundai      Elite i20  2014       Manual      100175  2nd Owner   \n",
       "2089   Maruti           Ritz  2011       Manual      100163  1st Owner   \n",
       "1778    Honda           City  2014       Manual       99970  1st Owner   \n",
       "1611  Hyundai          Creta  2017       Manual       99940  1st Owner   \n",
       "\n",
       "     fuel_type   price   location  \n",
       "644     Petrol  830000  New Delhi  \n",
       "4446    Petrol  830000    Gurgaon  \n",
       "4641    Petrol  519000    Gurgaon  \n",
       "801     Petrol  519000  New Delhi  \n",
       "4386    Petrol  504000    Gurgaon  \n",
       "870     Petrol  504000  New Delhi  \n",
       "2668    Petrol  510000  Hyderabad  \n",
       "2089    Petrol  315000  Bangalore  \n",
       "1778    Petrol  538000  Bangalore  \n",
       "1611    Petrol  774000     Mumbai  "
      ]
     },
     "execution_count": 112,
     "metadata": {},
     "output_type": "execute_result"
    }
   ],
   "source": [
    "data.sort_values(['kms_driven'],ascending=False)[:10]"
   ]
  },
  {
   "cell_type": "markdown",
   "id": "4475dc72",
   "metadata": {},
   "source": [
    "- It can be seen that all the above cars have either clocked or close to clocking 10 lakh kilometers. Also the cars are all with manual transmission and with petrol fuel."
   ]
  },
  {
   "cell_type": "markdown",
   "id": "0e755f42",
   "metadata": {},
   "source": [
    "# Encoding the data using Label Encode"
   ]
  },
  {
   "cell_type": "code",
   "execution_count": 113,
   "id": "5d902885",
   "metadata": {},
   "outputs": [],
   "source": [
    "#importing library for label encoder\n",
    "\n",
    "from sklearn.preprocessing import LabelEncoder\n",
    "\n",
    "label_enc=LabelEncoder()"
   ]
  },
  {
   "cell_type": "code",
   "execution_count": 114,
   "id": "53ff2b58",
   "metadata": {},
   "outputs": [],
   "source": [
    "#transforming the data\n",
    "df1=label_enc.fit_transform(data['brand'])\n",
    "df2=label_enc.fit_transform(data['model'])\n",
    "df3=label_enc.fit_transform(data['transmission'])\n",
    "df4=label_enc.fit_transform(data['owner'])\n",
    "df5=label_enc.fit_transform(data['fuel_type'])\n",
    "df6=label_enc.fit_transform(data['location'])"
   ]
  },
  {
   "cell_type": "code",
   "execution_count": 115,
   "id": "6327e014",
   "metadata": {},
   "outputs": [],
   "source": [
    "data['brand']=df1\n",
    "data['model']=df2\n",
    "data['transmission']=df3\n",
    "data['owner']=df4\n",
    "data['fuel_type']=df5\n",
    "data['location']=df6"
   ]
  },
  {
   "cell_type": "code",
   "execution_count": 117,
   "id": "0bbf4be5",
   "metadata": {},
   "outputs": [
    {
     "data": {
      "text/html": [
       "<div>\n",
       "<style scoped>\n",
       "    .dataframe tbody tr th:only-of-type {\n",
       "        vertical-align: middle;\n",
       "    }\n",
       "\n",
       "    .dataframe tbody tr th {\n",
       "        vertical-align: top;\n",
       "    }\n",
       "\n",
       "    .dataframe thead th {\n",
       "        text-align: right;\n",
       "    }\n",
       "</style>\n",
       "<table border=\"1\" class=\"dataframe\">\n",
       "  <thead>\n",
       "    <tr style=\"text-align: right;\">\n",
       "      <th></th>\n",
       "      <th>brand</th>\n",
       "      <th>model</th>\n",
       "      <th>year</th>\n",
       "      <th>transmission</th>\n",
       "      <th>kms_driven</th>\n",
       "      <th>owner</th>\n",
       "      <th>fuel_type</th>\n",
       "      <th>price</th>\n",
       "      <th>location</th>\n",
       "    </tr>\n",
       "  </thead>\n",
       "  <tbody>\n",
       "    <tr>\n",
       "      <th>0</th>\n",
       "      <td>9</td>\n",
       "      <td>78</td>\n",
       "      <td>2020</td>\n",
       "      <td>1</td>\n",
       "      <td>22826</td>\n",
       "      <td>0</td>\n",
       "      <td>2</td>\n",
       "      <td>522000</td>\n",
       "      <td>6</td>\n",
       "    </tr>\n",
       "    <tr>\n",
       "      <th>1</th>\n",
       "      <td>6</td>\n",
       "      <td>73</td>\n",
       "      <td>2020</td>\n",
       "      <td>1</td>\n",
       "      <td>5999</td>\n",
       "      <td>0</td>\n",
       "      <td>2</td>\n",
       "      <td>1722000</td>\n",
       "      <td>6</td>\n",
       "    </tr>\n",
       "    <tr>\n",
       "      <th>2</th>\n",
       "      <td>9</td>\n",
       "      <td>78</td>\n",
       "      <td>2020</td>\n",
       "      <td>1</td>\n",
       "      <td>16691</td>\n",
       "      <td>1</td>\n",
       "      <td>2</td>\n",
       "      <td>530000</td>\n",
       "      <td>6</td>\n",
       "    </tr>\n",
       "    <tr>\n",
       "      <th>3</th>\n",
       "      <td>6</td>\n",
       "      <td>73</td>\n",
       "      <td>2020</td>\n",
       "      <td>0</td>\n",
       "      <td>9417</td>\n",
       "      <td>0</td>\n",
       "      <td>2</td>\n",
       "      <td>1681000</td>\n",
       "      <td>6</td>\n",
       "    </tr>\n",
       "    <tr>\n",
       "      <th>4</th>\n",
       "      <td>4</td>\n",
       "      <td>42</td>\n",
       "      <td>2019</td>\n",
       "      <td>1</td>\n",
       "      <td>19964</td>\n",
       "      <td>0</td>\n",
       "      <td>2</td>\n",
       "      <td>503000</td>\n",
       "      <td>6</td>\n",
       "    </tr>\n",
       "  </tbody>\n",
       "</table>\n",
       "</div>"
      ],
      "text/plain": [
       "   brand  model  year  transmission  kms_driven  owner  fuel_type    price  \\\n",
       "0      9     78  2020             1       22826      0          2   522000   \n",
       "1      6     73  2020             1        5999      0          2  1722000   \n",
       "2      9     78  2020             1       16691      1          2   530000   \n",
       "3      6     73  2020             0        9417      0          2  1681000   \n",
       "4      4     42  2019             1       19964      0          2   503000   \n",
       "\n",
       "   location  \n",
       "0         6  \n",
       "1         6  \n",
       "2         6  \n",
       "3         6  \n",
       "4         6  "
      ]
     },
     "execution_count": 117,
     "metadata": {},
     "output_type": "execute_result"
    }
   ],
   "source": [
    "#priting dataset after encoding columns\n",
    "data.head()"
   ]
  },
  {
   "cell_type": "code",
   "execution_count": 118,
   "id": "d7d895f6",
   "metadata": {},
   "outputs": [
    {
     "data": {
      "text/plain": [
       "(4921, 9)"
      ]
     },
     "execution_count": 118,
     "metadata": {},
     "output_type": "execute_result"
    }
   ],
   "source": [
    "data.shape"
   ]
  },
  {
   "cell_type": "code",
   "execution_count": 119,
   "id": "4b285650",
   "metadata": {},
   "outputs": [
    {
     "data": {
      "text/html": [
       "<div>\n",
       "<style scoped>\n",
       "    .dataframe tbody tr th:only-of-type {\n",
       "        vertical-align: middle;\n",
       "    }\n",
       "\n",
       "    .dataframe tbody tr th {\n",
       "        vertical-align: top;\n",
       "    }\n",
       "\n",
       "    .dataframe thead th {\n",
       "        text-align: right;\n",
       "    }\n",
       "</style>\n",
       "<table border=\"1\" class=\"dataframe\">\n",
       "  <thead>\n",
       "    <tr style=\"text-align: right;\">\n",
       "      <th></th>\n",
       "      <th>brand</th>\n",
       "      <th>model</th>\n",
       "      <th>year</th>\n",
       "      <th>transmission</th>\n",
       "      <th>kms_driven</th>\n",
       "      <th>owner</th>\n",
       "      <th>fuel_type</th>\n",
       "      <th>price</th>\n",
       "      <th>location</th>\n",
       "    </tr>\n",
       "  </thead>\n",
       "  <tbody>\n",
       "    <tr>\n",
       "      <th>count</th>\n",
       "      <td>4921.000000</td>\n",
       "      <td>4921.000000</td>\n",
       "      <td>4921.000000</td>\n",
       "      <td>4921.000000</td>\n",
       "      <td>4921.000000</td>\n",
       "      <td>4921.000000</td>\n",
       "      <td>4921.000000</td>\n",
       "      <td>4.921000e+03</td>\n",
       "      <td>4921.000000</td>\n",
       "    </tr>\n",
       "    <tr>\n",
       "      <th>mean</th>\n",
       "      <td>7.499695</td>\n",
       "      <td>47.906523</td>\n",
       "      <td>2017.357244</td>\n",
       "      <td>0.835806</td>\n",
       "      <td>44552.055477</td>\n",
       "      <td>0.235724</td>\n",
       "      <td>1.640520</td>\n",
       "      <td>6.346025e+05</td>\n",
       "      <td>3.900630</td>\n",
       "    </tr>\n",
       "    <tr>\n",
       "      <th>std</th>\n",
       "      <td>3.639727</td>\n",
       "      <td>31.719403</td>\n",
       "      <td>2.648821</td>\n",
       "      <td>0.370489</td>\n",
       "      <td>24708.697058</td>\n",
       "      <td>0.441855</td>\n",
       "      <td>0.678814</td>\n",
       "      <td>3.035959e+05</td>\n",
       "      <td>2.066693</td>\n",
       "    </tr>\n",
       "    <tr>\n",
       "      <th>min</th>\n",
       "      <td>0.000000</td>\n",
       "      <td>0.000000</td>\n",
       "      <td>2009.000000</td>\n",
       "      <td>0.000000</td>\n",
       "      <td>0.000000</td>\n",
       "      <td>0.000000</td>\n",
       "      <td>0.000000</td>\n",
       "      <td>1.480000e+05</td>\n",
       "      <td>0.000000</td>\n",
       "    </tr>\n",
       "    <tr>\n",
       "      <th>25%</th>\n",
       "      <td>4.000000</td>\n",
       "      <td>20.000000</td>\n",
       "      <td>2016.000000</td>\n",
       "      <td>1.000000</td>\n",
       "      <td>24562.000000</td>\n",
       "      <td>0.000000</td>\n",
       "      <td>2.000000</td>\n",
       "      <td>4.330000e+05</td>\n",
       "      <td>3.000000</td>\n",
       "    </tr>\n",
       "    <tr>\n",
       "      <th>50%</th>\n",
       "      <td>9.000000</td>\n",
       "      <td>42.000000</td>\n",
       "      <td>2018.000000</td>\n",
       "      <td>1.000000</td>\n",
       "      <td>41044.000000</td>\n",
       "      <td>0.000000</td>\n",
       "      <td>2.000000</td>\n",
       "      <td>5.630000e+05</td>\n",
       "      <td>4.000000</td>\n",
       "    </tr>\n",
       "    <tr>\n",
       "      <th>75%</th>\n",
       "      <td>9.000000</td>\n",
       "      <td>78.000000</td>\n",
       "      <td>2019.000000</td>\n",
       "      <td>1.000000</td>\n",
       "      <td>62197.000000</td>\n",
       "      <td>0.000000</td>\n",
       "      <td>2.000000</td>\n",
       "      <td>7.520000e+05</td>\n",
       "      <td>6.000000</td>\n",
       "    </tr>\n",
       "    <tr>\n",
       "      <th>max</th>\n",
       "      <td>16.000000</td>\n",
       "      <td>106.000000</td>\n",
       "      <td>2022.000000</td>\n",
       "      <td>1.000000</td>\n",
       "      <td>100530.000000</td>\n",
       "      <td>2.000000</td>\n",
       "      <td>2.000000</td>\n",
       "      <td>2.880000e+06</td>\n",
       "      <td>7.000000</td>\n",
       "    </tr>\n",
       "  </tbody>\n",
       "</table>\n",
       "</div>"
      ],
      "text/plain": [
       "             brand        model         year  transmission     kms_driven  \\\n",
       "count  4921.000000  4921.000000  4921.000000   4921.000000    4921.000000   \n",
       "mean      7.499695    47.906523  2017.357244      0.835806   44552.055477   \n",
       "std       3.639727    31.719403     2.648821      0.370489   24708.697058   \n",
       "min       0.000000     0.000000  2009.000000      0.000000       0.000000   \n",
       "25%       4.000000    20.000000  2016.000000      1.000000   24562.000000   \n",
       "50%       9.000000    42.000000  2018.000000      1.000000   41044.000000   \n",
       "75%       9.000000    78.000000  2019.000000      1.000000   62197.000000   \n",
       "max      16.000000   106.000000  2022.000000      1.000000  100530.000000   \n",
       "\n",
       "             owner    fuel_type         price     location  \n",
       "count  4921.000000  4921.000000  4.921000e+03  4921.000000  \n",
       "mean      0.235724     1.640520  6.346025e+05     3.900630  \n",
       "std       0.441855     0.678814  3.035959e+05     2.066693  \n",
       "min       0.000000     0.000000  1.480000e+05     0.000000  \n",
       "25%       0.000000     2.000000  4.330000e+05     3.000000  \n",
       "50%       0.000000     2.000000  5.630000e+05     4.000000  \n",
       "75%       0.000000     2.000000  7.520000e+05     6.000000  \n",
       "max       2.000000     2.000000  2.880000e+06     7.000000  "
      ]
     },
     "execution_count": 119,
     "metadata": {},
     "output_type": "execute_result"
    }
   ],
   "source": [
    "# describing dataset\n",
    "data.describe()"
   ]
  },
  {
   "cell_type": "markdown",
   "id": "a3e8fd75",
   "metadata": {},
   "source": [
    "# Plotting the correlation matrix to check for correlation"
   ]
  },
  {
   "cell_type": "code",
   "execution_count": 121,
   "id": "529a98d7",
   "metadata": {},
   "outputs": [
    {
     "data": {
      "image/png": "[encoded data removed]",
      "text/plain": [
       "<Figure size 720x720 with 2 Axes>"
      ]
     },
     "metadata": {
      "needs_background": "light"
     },
     "output_type": "display_data"
    }
   ],
   "source": [
    "#plotting heatmap\n",
    "\n",
    "plt.figure(figsize=(10,10))\n",
    "corr=data.corr()\n",
    "sns.heatmap(corr,annot=True)\n",
    "plt.title('Correlation matrix')\n",
    "plt.show()"
   ]
  },
  {
   "cell_type": "markdown",
   "id": "ac637f44",
   "metadata": {},
   "source": [
    "- There is no multicollinearity seen within the dataset. "
   ]
  },
  {
   "cell_type": "code",
   "execution_count": 122,
   "id": "e0fd7049",
   "metadata": {},
   "outputs": [
    {
     "data": {
      "image/png": "[encoded data removed]",
      "text/plain": [
       "<Figure size 1080x360 with 1 Axes>"
      ]
     },
     "metadata": {
      "needs_background": "light"
     },
     "output_type": "display_data"
    }
   ],
   "source": [
    "#plotting a coorelation plot that will show relation of features with label(price)\n",
    "\n",
    "plt.figure(figsize=(15,5))\n",
    "data.corr()['price'].sort_values(ascending=False).drop(['price']).plot(kind='bar')\n",
    "plt.xlabel('Features')\n",
    "plt.ylabel('price')\n",
    "plt.title('correlation')\n",
    "plt.show()"
   ]
  },
  {
   "cell_type": "markdown",
   "id": "bbeaeff3",
   "metadata": {},
   "source": [
    "- Highest positive correlation is seen with year column while highest negative correlation is seen with transmission column. Brand column is least related to label(price)"
   ]
  },
  {
   "cell_type": "markdown",
   "id": "6d3175fa",
   "metadata": {},
   "source": [
    "# Checking for outliers in dataset"
   ]
  },
  {
   "cell_type": "code",
   "execution_count": 123,
   "id": "d3d320d1",
   "metadata": {},
   "outputs": [],
   "source": [
    "features=['year','kms_driven']"
   ]
  },
  {
   "cell_type": "code",
   "execution_count": 125,
   "id": "11a0bb9c",
   "metadata": {},
   "outputs": [
    {
     "data": {
      "image/png": "[encoded data removed]",
      "text/plain": [
       "<Figure size 720x720 with 2 Axes>"
      ]
     },
     "metadata": {
      "needs_background": "light"
     },
     "output_type": "display_data"
    }
   ],
   "source": [
    "plt.figure(figsize=(10,10))\n",
    "plotnumber=1\n",
    "\n",
    "for column in features:\n",
    "    if plotnumber<=2:\n",
    "        ax=plt.subplot(2,2,plotnumber)\n",
    "        sns.boxplot(data[column])\n",
    "        plt.xlabel(column)\n",
    "    plotnumber+=1\n",
    "plt.show()"
   ]
  },
  {
   "cell_type": "markdown",
   "id": "cded26ea",
   "metadata": {},
   "source": [
    "- It can be seen that only year column has outliers present.\n",
    "# Removing outliers using z-score method\n"
   ]
  },
  {
   "cell_type": "code",
   "execution_count": 133,
   "id": "cb85dc61",
   "metadata": {},
   "outputs": [],
   "source": [
    "#importing z score library\n",
    "\n",
    "from scipy.stats import zscore"
   ]
  },
  {
   "cell_type": "code",
   "execution_count": 134,
   "id": "3a209a9f",
   "metadata": {},
   "outputs": [],
   "source": [
    "z_score=zscore(data[['year']])"
   ]
  },
  {
   "cell_type": "code",
   "execution_count": 135,
   "id": "bac40b4b",
   "metadata": {},
   "outputs": [],
   "source": [
    "abs_z_score=np.abs(z_score)"
   ]
  },
  {
   "cell_type": "code",
   "execution_count": 136,
   "id": "731cb2eb",
   "metadata": {},
   "outputs": [],
   "source": [
    "filtering_entry=(abs_z_score<3).all(axis=1)"
   ]
  },
  {
   "cell_type": "code",
   "execution_count": 137,
   "id": "5bbc6878",
   "metadata": {},
   "outputs": [],
   "source": [
    "data=data[filtering_entry]"
   ]
  },
  {
   "cell_type": "code",
   "execution_count": 138,
   "id": "d88882bc",
   "metadata": {},
   "outputs": [
    {
     "data": {
      "text/plain": [
       "(4914, 9)"
      ]
     },
     "execution_count": 138,
     "metadata": {},
     "output_type": "execute_result"
    }
   ],
   "source": [
    "data.shape"
   ]
  },
  {
   "cell_type": "markdown",
   "id": "57fc316d",
   "metadata": {},
   "source": [
    "# Data loss after removing outliers"
   ]
  },
  {
   "cell_type": "code",
   "execution_count": 139,
   "id": "553a04f2",
   "metadata": {},
   "outputs": [
    {
     "name": "stdout",
     "output_type": "stream",
     "text": [
      "data loss in percent after removing outliers is: 0.14245014245014245%\n"
     ]
    }
   ],
   "source": [
    "# data loss percentage \n",
    "data_loss=((4921-4914)/4914)*100\n",
    "print(f'data loss in percent after removing outliers is: {data_loss}%')"
   ]
  },
  {
   "cell_type": "markdown",
   "id": "25447255",
   "metadata": {},
   "source": [
    "# Checking for skewness in dataset"
   ]
  },
  {
   "cell_type": "code",
   "execution_count": 140,
   "id": "bca4e4ab",
   "metadata": {},
   "outputs": [
    {
     "data": {
      "text/plain": [
       "brand           0.303648\n",
       "model           0.242091\n",
       "year           -0.568192\n",
       "transmission   -1.813207\n",
       "kms_driven      0.365041\n",
       "owner           1.509922\n",
       "fuel_type      -1.621306\n",
       "price           1.957801\n",
       "location       -0.138852\n",
       "dtype: float64"
      ]
     },
     "execution_count": 140,
     "metadata": {},
     "output_type": "execute_result"
    }
   ],
   "source": [
    "data.skew()"
   ]
  },
  {
   "cell_type": "markdown",
   "id": "0049e8ae",
   "metadata": {},
   "source": [
    "- It seems that column year has skewness present."
   ]
  },
  {
   "cell_type": "code",
   "execution_count": 141,
   "id": "25110b14",
   "metadata": {},
   "outputs": [
    {
     "data": {
      "text/plain": [
       "<AxesSubplot:xlabel='year', ylabel='Density'>"
      ]
     },
     "execution_count": 141,
     "metadata": {},
     "output_type": "execute_result"
    },
    {
     "data": {
      "image/png": "[encoded data removed]",
      "text/plain": [
       "<Figure size 432x288 with 1 Axes>"
      ]
     },
     "metadata": {
      "needs_background": "light"
     },
     "output_type": "display_data"
    }
   ],
   "source": [
    "sns.distplot(data['year'])"
   ]
  },
  {
   "cell_type": "code",
   "execution_count": 142,
   "id": "6d64d483",
   "metadata": {},
   "outputs": [],
   "source": [
    "# log  transforming data to remove skewness\n",
    "\n",
    "data['year']=np.log(data['year'])"
   ]
  },
  {
   "cell_type": "code",
   "execution_count": 143,
   "id": "58e885ef",
   "metadata": {},
   "outputs": [
    {
     "data": {
      "text/plain": [
       "-0.5711453907910347"
      ]
     },
     "execution_count": 143,
     "metadata": {},
     "output_type": "execute_result"
    }
   ],
   "source": [
    "data['year'].skew()"
   ]
  },
  {
   "cell_type": "markdown",
   "id": "20babdc4",
   "metadata": {},
   "source": [
    "# Since the columns are less, I'm not using feature selection method which helps in dropping columns that are not related to label.\n",
    "\n",
    "# Hence scaling the data"
   ]
  },
  {
   "cell_type": "code",
   "execution_count": 144,
   "id": "1129cebe",
   "metadata": {},
   "outputs": [],
   "source": [
    "#importing data scaling library\n",
    "from sklearn.preprocessing import StandardScaler"
   ]
  },
  {
   "cell_type": "code",
   "execution_count": 145,
   "id": "820da065",
   "metadata": {},
   "outputs": [],
   "source": [
    "# Splitting data into features (x) and labels (y)\n",
    "\n",
    "x=data.drop(['price'],axis=1)\n",
    "y=data['price']"
   ]
  },
  {
   "cell_type": "code",
   "execution_count": 146,
   "id": "d397f580",
   "metadata": {},
   "outputs": [],
   "source": [
    "#Standardizing data\n",
    "\n",
    "scaler=StandardScaler()\n",
    "\n",
    "#scaling features\n",
    "\n",
    "x_scaled=scaler.fit_transform(x)"
   ]
  },
  {
   "cell_type": "code",
   "execution_count": 147,
   "id": "8a5cb840",
   "metadata": {},
   "outputs": [
    {
     "data": {
      "text/plain": [
       "array([[ 0.41259869,  0.9497957 ,  0.99935391, ..., -0.53246271,\n",
       "         0.53010706,  1.01561769],\n",
       "       [-0.41170405,  0.79204537,  0.99935391, ..., -0.53246271,\n",
       "         0.53010706,  1.01561769],\n",
       "       [ 0.41259869,  0.9497957 ,  0.99935391, ...,  1.73292411,\n",
       "         0.53010706,  1.01561769],\n",
       "       ...,\n",
       "       [ 0.41259869,  0.9497957 , -0.89981958, ..., -0.53246271,\n",
       "         0.53010706,  1.49940456],\n",
       "       [ 0.41259869,  1.48614684, -0.89981958, ..., -0.53246271,\n",
       "        -2.41499878,  1.49940456],\n",
       "       [ 1.23690143,  0.12949396, -0.51960816, ..., -0.53246271,\n",
       "         0.53010706,  1.49940456]])"
      ]
     },
     "execution_count": 147,
     "metadata": {},
     "output_type": "execute_result"
    }
   ],
   "source": [
    "x_scaled"
   ]
  },
  {
   "cell_type": "markdown",
   "id": "207cb1de",
   "metadata": {},
   "source": [
    "# Model Building part"
   ]
  },
  {
   "cell_type": "code",
   "execution_count": 148,
   "id": "e12c7b52",
   "metadata": {},
   "outputs": [],
   "source": [
    "#importing library for regression model\n",
    "from sklearn.ensemble import RandomForestRegressor\n",
    "from sklearn.ensemble import AdaBoostRegressor\n",
    "from sklearn.tree import DecisionTreeRegressor\n",
    "from sklearn.ensemble import GradientBoostingRegressor\n",
    "\n",
    "#importing r2 score\n",
    "from sklearn.metrics import r2_score\n",
    "\n",
    "#importing train test split\n",
    "from sklearn.model_selection import train_test_split\n",
    "\n",
    "from sklearn import metrics\n",
    "from sklearn.metrics import mean_squared_error, mean_absolute_error\n",
    "\n",
    "#for cross validation score\n",
    "from sklearn.model_selection import cross_val_score"
   ]
  },
  {
   "cell_type": "code",
   "execution_count": 149,
   "id": "9369964a",
   "metadata": {},
   "outputs": [],
   "source": [
    "rf=RandomForestRegressor()\n",
    "ab=AdaBoostRegressor()\n",
    "dt=DecisionTreeRegressor()\n",
    "gbdt=GradientBoostingRegressor()"
   ]
  },
  {
   "cell_type": "code",
   "execution_count": 150,
   "id": "76a9474b",
   "metadata": {},
   "outputs": [
    {
     "name": "stdout",
     "output_type": "stream",
     "text": [
      "training score is  98.56253081256075  for random state  0\n",
      "testing score is  89.69553248376552  for random state  0\n",
      "\n",
      "\n",
      "training score is  98.63721643878479  for random state  1\n",
      "testing score is  90.104062954184  for random state  1\n",
      "\n",
      "\n",
      "training score is  98.60486680032156  for random state  2\n",
      "testing score is  90.95178410846242  for random state  2\n",
      "\n",
      "\n",
      "training score is  98.56040979446385  for random state  3\n",
      "testing score is  91.22699391403324  for random state  3\n",
      "\n",
      "\n",
      "training score is  98.61286238747172  for random state  4\n",
      "testing score is  89.59042566390562  for random state  4\n",
      "\n",
      "\n",
      "training score is  98.63475593513931  for random state  5\n",
      "testing score is  89.03237748684336  for random state  5\n",
      "\n",
      "\n",
      "training score is  98.3975693036129  for random state  6\n",
      "testing score is  91.95626362011538  for random state  6\n",
      "\n",
      "\n",
      "training score is  98.65088987734289  for random state  7\n",
      "testing score is  91.665327580706  for random state  7\n",
      "\n",
      "\n",
      "training score is  98.71357797831017  for random state  8\n",
      "testing score is  86.33432879519113  for random state  8\n",
      "\n",
      "\n",
      "training score is  98.54840036098413  for random state  9\n",
      "testing score is  91.04010758076822  for random state  9\n",
      "\n",
      "\n",
      "training score is  98.80973361582495  for random state  10\n",
      "testing score is  88.12935924971306  for random state  10\n",
      "\n",
      "\n",
      "training score is  98.633295966513  for random state  11\n",
      "testing score is  91.27089217956846  for random state  11\n",
      "\n",
      "\n",
      "training score is  98.71951164017709  for random state  12\n",
      "testing score is  90.09311352881029  for random state  12\n",
      "\n",
      "\n",
      "training score is  98.52528645358578  for random state  13\n",
      "testing score is  90.0413770109524  for random state  13\n",
      "\n",
      "\n",
      "training score is  98.41667398015605  for random state  14\n",
      "testing score is  91.4386365417593  for random state  14\n",
      "\n",
      "\n",
      "training score is  98.61952363747957  for random state  15\n",
      "testing score is  90.75958411460631  for random state  15\n",
      "\n",
      "\n",
      "training score is  98.68055127787635  for random state  16\n",
      "testing score is  85.94562244476002  for random state  16\n",
      "\n",
      "\n",
      "training score is  98.68609107881115  for random state  17\n",
      "testing score is  90.25398204764606  for random state  17\n",
      "\n",
      "\n",
      "training score is  98.60110758012517  for random state  18\n",
      "testing score is  92.27926629880847  for random state  18\n",
      "\n",
      "\n",
      "training score is  98.68634195122046  for random state  19\n",
      "testing score is  88.1276815021909  for random state  19\n",
      "\n",
      "\n",
      "training score is  98.58896994136067  for random state  20\n",
      "testing score is  89.08505552908682  for random state  20\n",
      "\n",
      "\n",
      "training score is  98.75599297876816  for random state  21\n",
      "testing score is  88.67826640081856  for random state  21\n",
      "\n",
      "\n",
      "training score is  98.54449119674588  for random state  22\n",
      "testing score is  92.43308576398537  for random state  22\n",
      "\n",
      "\n",
      "training score is  98.60089153796564  for random state  23\n",
      "testing score is  90.72538746607289  for random state  23\n",
      "\n",
      "\n",
      "training score is  98.74369432134557  for random state  24\n",
      "testing score is  87.15681513377532  for random state  24\n",
      "\n",
      "\n",
      "training score is  98.47100051003093  for random state  25\n",
      "testing score is  90.45954479418492  for random state  25\n",
      "\n",
      "\n",
      "training score is  98.71916785161703  for random state  26\n",
      "testing score is  92.52973525563492  for random state  26\n",
      "\n",
      "\n",
      "training score is  98.7767563988086  for random state  27\n",
      "testing score is  89.7516928940397  for random state  27\n",
      "\n",
      "\n",
      "training score is  98.57345569532728  for random state  28\n",
      "testing score is  91.0457788004021  for random state  28\n",
      "\n",
      "\n",
      "training score is  98.58779173273939  for random state  29\n",
      "testing score is  90.65970259242924  for random state  29\n",
      "\n",
      "\n",
      "training score is  98.68419035254601  for random state  30\n",
      "testing score is  90.46830216038143  for random state  30\n",
      "\n",
      "\n",
      "training score is  98.65777466448043  for random state  31\n",
      "testing score is  88.73123229326552  for random state  31\n",
      "\n",
      "\n",
      "training score is  98.62494490121378  for random state  32\n",
      "testing score is  89.98029569757058  for random state  32\n",
      "\n",
      "\n",
      "training score is  98.59486751748786  for random state  33\n",
      "testing score is  91.18269163184425  for random state  33\n",
      "\n",
      "\n",
      "training score is  98.78468250566017  for random state  34\n",
      "testing score is  89.27854226446564  for random state  34\n",
      "\n",
      "\n",
      "training score is  98.52250915038711  for random state  35\n",
      "testing score is  91.26965652337044  for random state  35\n",
      "\n",
      "\n",
      "training score is  98.57673258860842  for random state  36\n",
      "testing score is  91.27561851467907  for random state  36\n",
      "\n",
      "\n",
      "training score is  98.53393597529323  for random state  37\n",
      "testing score is  90.7350652164407  for random state  37\n",
      "\n",
      "\n",
      "training score is  98.65818651384201  for random state  38\n",
      "testing score is  89.35396582607717  for random state  38\n",
      "\n",
      "\n",
      "training score is  98.58556912529573  for random state  39\n",
      "testing score is  92.19589338906039  for random state  39\n",
      "\n",
      "\n",
      "training score is  98.46397690981763  for random state  40\n",
      "testing score is  93.08896470423434  for random state  40\n",
      "\n",
      "\n",
      "training score is  98.74473759273103  for random state  41\n",
      "testing score is  89.73791060145389  for random state  41\n",
      "\n",
      "\n",
      "training score is  98.81322407424054  for random state  42\n",
      "testing score is  90.42013139259512  for random state  42\n",
      "\n",
      "\n",
      "training score is  98.70078503027553  for random state  43\n",
      "testing score is  92.27226390693026  for random state  43\n",
      "\n",
      "\n",
      "training score is  98.81999586945253  for random state  44\n",
      "testing score is  89.07529685525772  for random state  44\n",
      "\n",
      "\n",
      "training score is  98.63405252798107  for random state  45\n",
      "testing score is  90.72578088857335  for random state  45\n",
      "\n",
      "\n",
      "training score is  98.68682811233612  for random state  46\n",
      "testing score is  92.25876778270879  for random state  46\n",
      "\n",
      "\n",
      "training score is  98.64528114112332  for random state  47\n",
      "testing score is  90.64063854327243  for random state  47\n",
      "\n",
      "\n",
      "training score is  98.59158933386402  for random state  48\n",
      "testing score is  88.47917012068736  for random state  48\n",
      "\n",
      "\n",
      "training score is  98.69743875690793  for random state  49\n",
      "testing score is  90.7990411629697  for random state  49\n",
      "\n",
      "\n"
     ]
    }
   ],
   "source": [
    "#finding best random state for random forest model\n",
    "for i in range(0,50):\n",
    "    x_train,x_test,y_train,y_test=train_test_split(x_scaled,y,test_size=0.25,random_state=i)\n",
    "    rf.fit(x_train,y_train)\n",
    "    y_pred=rf.predict(x_train)\n",
    "    pred=rf.predict(x_test)\n",
    "    print('training score is ',(metrics.r2_score(y_train,y_pred)*100),' for random state ',i)\n",
    "    print('testing score is ',(metrics.r2_score(y_test,pred)*100),' for random state ',i)\n",
    "    print('\\n')"
   ]
  },
  {
   "cell_type": "markdown",
   "id": "f5caedaf",
   "metadata": {},
   "source": [
    "- Taking random state as 40 as it provides with highest testing score."
   ]
  },
  {
   "cell_type": "code",
   "execution_count": 151,
   "id": "3e87a3b3",
   "metadata": {},
   "outputs": [],
   "source": [
    "\n",
    "\n",
    "#making train and test data split\n",
    "\n",
    "x_train,x_test,y_train,y_test=train_test_split(x_scaled,y,test_size=0.25,random_state=40)"
   ]
  },
  {
   "cell_type": "code",
   "execution_count": 152,
   "id": "497c42f5",
   "metadata": {},
   "outputs": [
    {
     "data": {
      "text/html": [
       "<style>#sk-container-id-1 {color: black;background-color: white;}#sk-container-id-1 pre{padding: 0;}#sk-container-id-1 div.sk-toggleable {background-color: white;}#sk-container-id-1 label.sk-toggleable__label {cursor: pointer;display: block;width: 100%;margin-bottom: 0;padding: 0.3em;box-sizing: border-box;text-align: center;}#sk-container-id-1 label.sk-toggleable__label-arrow:before {content: \"▸\";float: left;margin-right: 0.25em;color: #696969;}#sk-container-id-1 label.sk-toggleable__label-arrow:hover:before {color: black;}#sk-container-id-1 div.sk-estimator:hover label.sk-toggleable__label-arrow:before {color: black;}#sk-container-id-1 div.sk-toggleable__content {max-height: 0;max-width: 0;overflow: hidden;text-align: left;background-color: #f0f8ff;}#sk-container-id-1 div.sk-toggleable__content pre {margin: 0.2em;color: black;border-radius: 0.25em;background-color: #f0f8ff;}#sk-container-id-1 input.sk-toggleable__control:checked~div.sk-toggleable__content {max-height: 200px;max-width: 100%;overflow: auto;}#sk-container-id-1 input.sk-toggleable__control:checked~label.sk-toggleable__label-arrow:before {content: \"▾\";}#sk-container-id-1 div.sk-estimator input.sk-toggleable__control:checked~label.sk-toggleable__label {background-color: #d4ebff;}#sk-container-id-1 div.sk-label input.sk-toggleable__control:checked~label.sk-toggleable__label {background-color: #d4ebff;}#sk-container-id-1 input.sk-hidden--visually {border: 0;clip: rect(1px 1px 1px 1px);clip: rect(1px, 1px, 1px, 1px);height: 1px;margin: -1px;overflow: hidden;padding: 0;position: absolute;width: 1px;}#sk-container-id-1 div.sk-estimator {font-family: monospace;background-color: #f0f8ff;border: 1px dotted black;border-radius: 0.25em;box-sizing: border-box;margin-bottom: 0.5em;}#sk-container-id-1 div.sk-estimator:hover {background-color: #d4ebff;}#sk-container-id-1 div.sk-parallel-item::after {content: \"\";width: 100%;border-bottom: 1px solid gray;flex-grow: 1;}#sk-container-id-1 div.sk-label:hover label.sk-toggleable__label {background-color: #d4ebff;}#sk-container-id-1 div.sk-serial::before {content: \"\";position: absolute;border-left: 1px solid gray;box-sizing: border-box;top: 0;bottom: 0;left: 50%;z-index: 0;}#sk-container-id-1 div.sk-serial {display: flex;flex-direction: column;align-items: center;background-color: white;padding-right: 0.2em;padding-left: 0.2em;position: relative;}#sk-container-id-1 div.sk-item {position: relative;z-index: 1;}#sk-container-id-1 div.sk-parallel {display: flex;align-items: stretch;justify-content: center;background-color: white;position: relative;}#sk-container-id-1 div.sk-item::before, #sk-container-id-1 div.sk-parallel-item::before {content: \"\";position: absolute;border-left: 1px solid gray;box-sizing: border-box;top: 0;bottom: 0;left: 50%;z-index: -1;}#sk-container-id-1 div.sk-parallel-item {display: flex;flex-direction: column;z-index: 1;position: relative;background-color: white;}#sk-container-id-1 div.sk-parallel-item:first-child::after {align-self: flex-end;width: 50%;}#sk-container-id-1 div.sk-parallel-item:last-child::after {align-self: flex-start;width: 50%;}#sk-container-id-1 div.sk-parallel-item:only-child::after {width: 0;}#sk-container-id-1 div.sk-dashed-wrapped {border: 1px dashed gray;margin: 0 0.4em 0.5em 0.4em;box-sizing: border-box;padding-bottom: 0.4em;background-color: white;}#sk-container-id-1 div.sk-label label {font-family: monospace;font-weight: bold;display: inline-block;line-height: 1.2em;}#sk-container-id-1 div.sk-label-container {text-align: center;}#sk-container-id-1 div.sk-container {/* jupyter's `normalize.less` sets `[hidden] { display: none; }` but bootstrap.min.css set `[hidden] { display: none !important; }` so we also need the `!important` here to be able to override the default hidden behavior on the sphinx rendered scikit-learn.org. See: https://github.com/scikit-learn/scikit-learn/issues/21755 */display: inline-block !important;position: relative;}#sk-container-id-1 div.sk-text-repr-fallback {display: none;}</style><div id=\"sk-container-id-1\" class=\"sk-top-container\"><div class=\"sk-text-repr-fallback\"><pre>RandomForestRegressor()</pre><b>In a Jupyter environment, please rerun this cell to show the HTML representation or trust the notebook. <br />On GitHub, the HTML representation is unable to render, please try loading this page with nbviewer.org.</b></div><div class=\"sk-container\" hidden><div class=\"sk-item\"><div class=\"sk-estimator sk-toggleable\"><input class=\"sk-toggleable__control sk-hidden--visually\" id=\"sk-estimator-id-1\" type=\"checkbox\" checked><label for=\"sk-estimator-id-1\" class=\"sk-toggleable__label sk-toggleable__label-arrow\">RandomForestRegressor</label><div class=\"sk-toggleable__content\"><pre>RandomForestRegressor()</pre></div></div></div></div></div>"
      ],
      "text/plain": [
       "RandomForestRegressor()"
      ]
     },
     "execution_count": 152,
     "metadata": {},
     "output_type": "execute_result"
    }
   ],
   "source": [
    "rf.fit(x_train,y_train)"
   ]
  },
  {
   "cell_type": "code",
   "execution_count": 153,
   "id": "cfa92f08",
   "metadata": {},
   "outputs": [
    {
     "name": "stdout",
     "output_type": "stream",
     "text": [
      "training R2 score:98.43%\n",
      "testing R2 score:92.98%\n"
     ]
    }
   ],
   "source": [
    "# since thge model is already trained, below code will help to predict based on train and test data\n",
    "\n",
    "y_pred=rf.predict(x_train) \n",
    "\n",
    "pred=rf.predict(x_test)\n",
    "\n",
    "#printing r2 score for testing and training models.\n",
    "#r2 score give value of how good the model has studied and learnt the data\n",
    "\n",
    "print(f'training R2 score:{r2_score(y_train,y_pred)*100:.2f}%')\n",
    "print(f'testing R2 score:{r2_score(y_test,pred)*100:.2f}%')"
   ]
  },
  {
   "cell_type": "markdown",
   "id": "0a42c1ed",
   "metadata": {},
   "source": [
    "# finding cross validation score"
   ]
  },
  {
   "cell_type": "code",
   "execution_count": 154,
   "id": "1432c418",
   "metadata": {},
   "outputs": [
    {
     "name": "stdout",
     "output_type": "stream",
     "text": [
      "At cv:- 2\n",
      "cross validation score:-  86.62380047597695\n",
      "At cv:- 3\n",
      "cross validation score:-  87.6077199226576\n",
      "At cv:- 4\n",
      "cross validation score:-  88.1382257104218\n",
      "At cv:- 5\n",
      "cross validation score:-  88.36354201901004\n",
      "At cv:- 6\n",
      "cross validation score:-  88.8434647334647\n",
      "At cv:- 7\n",
      "cross validation score:-  88.4359379368305\n",
      "At cv:- 8\n",
      "cross validation score:-  89.71452259188607\n",
      "At cv:- 9\n",
      "cross validation score:-  88.16034193513784\n",
      "At cv:- 10\n",
      "cross validation score:-  88.93465474475948\n",
      "At cv:- 11\n",
      "cross validation score:-  90.04214275769826\n",
      "At cv:- 12\n",
      "cross validation score:-  89.14965439347236\n",
      "At cv:- 13\n",
      "cross validation score:-  89.4992301632622\n",
      "At cv:- 14\n",
      "cross validation score:-  88.89221618847033\n",
      "At cv:- 15\n",
      "cross validation score:-  89.51159056280787\n",
      "At cv:- 16\n",
      "cross validation score:-  89.26778171663436\n",
      "At cv:- 17\n",
      "cross validation score:-  90.44356720350861\n",
      "At cv:- 18\n",
      "cross validation score:-  90.13884027487885\n",
      "At cv:- 19\n",
      "cross validation score:-  89.21447283424791\n"
     ]
    }
   ],
   "source": [
    "#finding best value for cv in provided range\n",
    "for i in range(2,20):\n",
    "    cv_score=cross_val_score(rf,x_scaled,y,cv=i)\n",
    "    cv=cv_score.mean()\n",
    "    print('At cv:-',i)\n",
    "    print('cross validation score:- ',cv*100)"
   ]
  },
  {
   "cell_type": "code",
   "execution_count": 155,
   "id": "bbb51b36",
   "metadata": {},
   "outputs": [
    {
     "name": "stdout",
     "output_type": "stream",
     "text": [
      "Cross Validation Score for Random Forest regressor model :-  90.3435502561012\n"
     ]
    }
   ],
   "source": [
    "#cross validation score\n",
    "print('Cross Validation Score for Random Forest regressor model :- ',((cross_val_score(rf,x_scaled,y,cv=17).mean())*100))"
   ]
  },
  {
   "cell_type": "code",
   "execution_count": 156,
   "id": "9ce5825f",
   "metadata": {},
   "outputs": [
    {
     "name": "stdout",
     "output_type": "stream",
     "text": [
      "mean absolute error 50767.64551125576\n",
      "root mean squared error 87277.81517312815\n"
     ]
    }
   ],
   "source": [
    "#finding mean absolute error() for above model(MAE)\n",
    "print('mean absolute error',mean_absolute_error(y_test,pred))\n",
    "\n",
    "#finding root mean_squared_error(RMSE)\n",
    "print('root mean squared error',np.sqrt(mean_squared_error(y_test,pred)))"
   ]
  },
  {
   "cell_type": "code",
   "execution_count": 157,
   "id": "4280796c",
   "metadata": {},
   "outputs": [
    {
     "data": {
      "image/png": "[encoded data removed]",
      "text/plain": [
       "<Figure size 432x288 with 1 Axes>"
      ]
     },
     "metadata": {
      "needs_background": "light"
     },
     "output_type": "display_data"
    }
   ],
   "source": [
    "#plotting scatter plot for predicted vs actual\n",
    "\n",
    "plt.scatter(y_test,pred)\n",
    "plt.plot(y_test,y_test,color='r')\n",
    "plt.xlabel('actual price')\n",
    "plt.ylabel('predicted price')\n",
    "plt.title('actual vs model predicted')\n",
    "plt.show()"
   ]
  },
  {
   "cell_type": "markdown",
   "id": "6aa691d9",
   "metadata": {},
   "source": [
    "# AdaBoost Regressor¶"
   ]
  },
  {
   "cell_type": "code",
   "execution_count": 158,
   "id": "1ea3087a",
   "metadata": {},
   "outputs": [
    {
     "data": {
      "text/html": [
       "<style>#sk-container-id-2 {color: black;background-color: white;}#sk-container-id-2 pre{padding: 0;}#sk-container-id-2 div.sk-toggleable {background-color: white;}#sk-container-id-2 label.sk-toggleable__label {cursor: pointer;display: block;width: 100%;margin-bottom: 0;padding: 0.3em;box-sizing: border-box;text-align: center;}#sk-container-id-2 label.sk-toggleable__label-arrow:before {content: \"▸\";float: left;margin-right: 0.25em;color: #696969;}#sk-container-id-2 label.sk-toggleable__label-arrow:hover:before {color: black;}#sk-container-id-2 div.sk-estimator:hover label.sk-toggleable__label-arrow:before {color: black;}#sk-container-id-2 div.sk-toggleable__content {max-height: 0;max-width: 0;overflow: hidden;text-align: left;background-color: #f0f8ff;}#sk-container-id-2 div.sk-toggleable__content pre {margin: 0.2em;color: black;border-radius: 0.25em;background-color: #f0f8ff;}#sk-container-id-2 input.sk-toggleable__control:checked~div.sk-toggleable__content {max-height: 200px;max-width: 100%;overflow: auto;}#sk-container-id-2 input.sk-toggleable__control:checked~label.sk-toggleable__label-arrow:before {content: \"▾\";}#sk-container-id-2 div.sk-estimator input.sk-toggleable__control:checked~label.sk-toggleable__label {background-color: #d4ebff;}#sk-container-id-2 div.sk-label input.sk-toggleable__control:checked~label.sk-toggleable__label {background-color: #d4ebff;}#sk-container-id-2 input.sk-hidden--visually {border: 0;clip: rect(1px 1px 1px 1px);clip: rect(1px, 1px, 1px, 1px);height: 1px;margin: -1px;overflow: hidden;padding: 0;position: absolute;width: 1px;}#sk-container-id-2 div.sk-estimator {font-family: monospace;background-color: #f0f8ff;border: 1px dotted black;border-radius: 0.25em;box-sizing: border-box;margin-bottom: 0.5em;}#sk-container-id-2 div.sk-estimator:hover {background-color: #d4ebff;}#sk-container-id-2 div.sk-parallel-item::after {content: \"\";width: 100%;border-bottom: 1px solid gray;flex-grow: 1;}#sk-container-id-2 div.sk-label:hover label.sk-toggleable__label {background-color: #d4ebff;}#sk-container-id-2 div.sk-serial::before {content: \"\";position: absolute;border-left: 1px solid gray;box-sizing: border-box;top: 0;bottom: 0;left: 50%;z-index: 0;}#sk-container-id-2 div.sk-serial {display: flex;flex-direction: column;align-items: center;background-color: white;padding-right: 0.2em;padding-left: 0.2em;position: relative;}#sk-container-id-2 div.sk-item {position: relative;z-index: 1;}#sk-container-id-2 div.sk-parallel {display: flex;align-items: stretch;justify-content: center;background-color: white;position: relative;}#sk-container-id-2 div.sk-item::before, #sk-container-id-2 div.sk-parallel-item::before {content: \"\";position: absolute;border-left: 1px solid gray;box-sizing: border-box;top: 0;bottom: 0;left: 50%;z-index: -1;}#sk-container-id-2 div.sk-parallel-item {display: flex;flex-direction: column;z-index: 1;position: relative;background-color: white;}#sk-container-id-2 div.sk-parallel-item:first-child::after {align-self: flex-end;width: 50%;}#sk-container-id-2 div.sk-parallel-item:last-child::after {align-self: flex-start;width: 50%;}#sk-container-id-2 div.sk-parallel-item:only-child::after {width: 0;}#sk-container-id-2 div.sk-dashed-wrapped {border: 1px dashed gray;margin: 0 0.4em 0.5em 0.4em;box-sizing: border-box;padding-bottom: 0.4em;background-color: white;}#sk-container-id-2 div.sk-label label {font-family: monospace;font-weight: bold;display: inline-block;line-height: 1.2em;}#sk-container-id-2 div.sk-label-container {text-align: center;}#sk-container-id-2 div.sk-container {/* jupyter's `normalize.less` sets `[hidden] { display: none; }` but bootstrap.min.css set `[hidden] { display: none !important; }` so we also need the `!important` here to be able to override the default hidden behavior on the sphinx rendered scikit-learn.org. See: https://github.com/scikit-learn/scikit-learn/issues/21755 */display: inline-block !important;position: relative;}#sk-container-id-2 div.sk-text-repr-fallback {display: none;}</style><div id=\"sk-container-id-2\" class=\"sk-top-container\"><div class=\"sk-text-repr-fallback\"><pre>AdaBoostRegressor()</pre><b>In a Jupyter environment, please rerun this cell to show the HTML representation or trust the notebook. <br />On GitHub, the HTML representation is unable to render, please try loading this page with nbviewer.org.</b></div><div class=\"sk-container\" hidden><div class=\"sk-item\"><div class=\"sk-estimator sk-toggleable\"><input class=\"sk-toggleable__control sk-hidden--visually\" id=\"sk-estimator-id-2\" type=\"checkbox\" checked><label for=\"sk-estimator-id-2\" class=\"sk-toggleable__label sk-toggleable__label-arrow\">AdaBoostRegressor</label><div class=\"sk-toggleable__content\"><pre>AdaBoostRegressor()</pre></div></div></div></div></div>"
      ],
      "text/plain": [
       "AdaBoostRegressor()"
      ]
     },
     "execution_count": 158,
     "metadata": {},
     "output_type": "execute_result"
    }
   ],
   "source": [
    "ab.fit(x_train,y_train)"
   ]
  },
  {
   "cell_type": "code",
   "execution_count": 159,
   "id": "1c1fac9f",
   "metadata": {},
   "outputs": [
    {
     "name": "stdout",
     "output_type": "stream",
     "text": [
      "training R2 score:39.26%\n",
      "testing R2 score:47.17%\n"
     ]
    }
   ],
   "source": [
    "# since thge model is already trained, below code will help to predict based on train and test data\n",
    "\n",
    "y_pred=ab.predict(x_train) \n",
    "\n",
    "pred=ab.predict(x_test)\n",
    "\n",
    "#printing r2 score for testing and training models.\n",
    "#r2 score give value of how good the model has studied and learnt the data\n",
    "\n",
    "print(f'training R2 score:{r2_score(y_train,y_pred)*100:.2f}%')\n",
    "print(f'testing R2 score:{r2_score(y_test,pred)*100:.2f}%')"
   ]
  },
  {
   "cell_type": "code",
   "execution_count": 160,
   "id": "ebacd36b",
   "metadata": {},
   "outputs": [
    {
     "name": "stdout",
     "output_type": "stream",
     "text": [
      "Cross Validation Score for AdaBoost regressor model :-  27.06511296935603\n"
     ]
    }
   ],
   "source": [
    "#cross validation score\n",
    "print('Cross Validation Score for AdaBoost regressor model :- ',((cross_val_score(ab,x_scaled,y,cv=17).mean())*100))"
   ]
  },
  {
   "cell_type": "code",
   "execution_count": 161,
   "id": "63e89147",
   "metadata": {},
   "outputs": [
    {
     "name": "stdout",
     "output_type": "stream",
     "text": [
      "mean absolute error 203502.24884886426\n",
      "root mean squared error 239430.56028211128\n"
     ]
    }
   ],
   "source": [
    "#finding mean absolute error() for above model(MAE)\n",
    "print('mean absolute error',mean_absolute_error(y_test,pred))\n",
    "\n",
    "#finding root mean_squared_error(RMSE)\n",
    "print('root mean squared error',np.sqrt(mean_squared_error(y_test,pred)))"
   ]
  },
  {
   "cell_type": "code",
   "execution_count": 162,
   "id": "fb0ecb5d",
   "metadata": {},
   "outputs": [
    {
     "data": {
      "image/png": "[encoded data removed]",
      "text/plain": [
       "<Figure size 432x288 with 1 Axes>"
      ]
     },
     "metadata": {
      "needs_background": "light"
     },
     "output_type": "display_data"
    }
   ],
   "source": [
    "#plotting scatter plot for predicted vs actual\n",
    "\n",
    "plt.scatter(y_test,pred)\n",
    "plt.plot(y_test,y_test,color='r')\n",
    "plt.xlabel('actual price')\n",
    "plt.ylabel('predicted price')\n",
    "plt.title('actual vs model predicted')\n",
    "plt.show()"
   ]
  },
  {
   "cell_type": "markdown",
   "id": "63872690",
   "metadata": {},
   "source": [
    "# Decision Tree Regressor"
   ]
  },
  {
   "cell_type": "code",
   "execution_count": 163,
   "id": "ab6729bd",
   "metadata": {},
   "outputs": [
    {
     "data": {
      "text/html": [
       "<style>#sk-container-id-3 {color: black;background-color: white;}#sk-container-id-3 pre{padding: 0;}#sk-container-id-3 div.sk-toggleable {background-color: white;}#sk-container-id-3 label.sk-toggleable__label {cursor: pointer;display: block;width: 100%;margin-bottom: 0;padding: 0.3em;box-sizing: border-box;text-align: center;}#sk-container-id-3 label.sk-toggleable__label-arrow:before {content: \"▸\";float: left;margin-right: 0.25em;color: #696969;}#sk-container-id-3 label.sk-toggleable__label-arrow:hover:before {color: black;}#sk-container-id-3 div.sk-estimator:hover label.sk-toggleable__label-arrow:before {color: black;}#sk-container-id-3 div.sk-toggleable__content {max-height: 0;max-width: 0;overflow: hidden;text-align: left;background-color: #f0f8ff;}#sk-container-id-3 div.sk-toggleable__content pre {margin: 0.2em;color: black;border-radius: 0.25em;background-color: #f0f8ff;}#sk-container-id-3 input.sk-toggleable__control:checked~div.sk-toggleable__content {max-height: 200px;max-width: 100%;overflow: auto;}#sk-container-id-3 input.sk-toggleable__control:checked~label.sk-toggleable__label-arrow:before {content: \"▾\";}#sk-container-id-3 div.sk-estimator input.sk-toggleable__control:checked~label.sk-toggleable__label {background-color: #d4ebff;}#sk-container-id-3 div.sk-label input.sk-toggleable__control:checked~label.sk-toggleable__label {background-color: #d4ebff;}#sk-container-id-3 input.sk-hidden--visually {border: 0;clip: rect(1px 1px 1px 1px);clip: rect(1px, 1px, 1px, 1px);height: 1px;margin: -1px;overflow: hidden;padding: 0;position: absolute;width: 1px;}#sk-container-id-3 div.sk-estimator {font-family: monospace;background-color: #f0f8ff;border: 1px dotted black;border-radius: 0.25em;box-sizing: border-box;margin-bottom: 0.5em;}#sk-container-id-3 div.sk-estimator:hover {background-color: #d4ebff;}#sk-container-id-3 div.sk-parallel-item::after {content: \"\";width: 100%;border-bottom: 1px solid gray;flex-grow: 1;}#sk-container-id-3 div.sk-label:hover label.sk-toggleable__label {background-color: #d4ebff;}#sk-container-id-3 div.sk-serial::before {content: \"\";position: absolute;border-left: 1px solid gray;box-sizing: border-box;top: 0;bottom: 0;left: 50%;z-index: 0;}#sk-container-id-3 div.sk-serial {display: flex;flex-direction: column;align-items: center;background-color: white;padding-right: 0.2em;padding-left: 0.2em;position: relative;}#sk-container-id-3 div.sk-item {position: relative;z-index: 1;}#sk-container-id-3 div.sk-parallel {display: flex;align-items: stretch;justify-content: center;background-color: white;position: relative;}#sk-container-id-3 div.sk-item::before, #sk-container-id-3 div.sk-parallel-item::before {content: \"\";position: absolute;border-left: 1px solid gray;box-sizing: border-box;top: 0;bottom: 0;left: 50%;z-index: -1;}#sk-container-id-3 div.sk-parallel-item {display: flex;flex-direction: column;z-index: 1;position: relative;background-color: white;}#sk-container-id-3 div.sk-parallel-item:first-child::after {align-self: flex-end;width: 50%;}#sk-container-id-3 div.sk-parallel-item:last-child::after {align-self: flex-start;width: 50%;}#sk-container-id-3 div.sk-parallel-item:only-child::after {width: 0;}#sk-container-id-3 div.sk-dashed-wrapped {border: 1px dashed gray;margin: 0 0.4em 0.5em 0.4em;box-sizing: border-box;padding-bottom: 0.4em;background-color: white;}#sk-container-id-3 div.sk-label label {font-family: monospace;font-weight: bold;display: inline-block;line-height: 1.2em;}#sk-container-id-3 div.sk-label-container {text-align: center;}#sk-container-id-3 div.sk-container {/* jupyter's `normalize.less` sets `[hidden] { display: none; }` but bootstrap.min.css set `[hidden] { display: none !important; }` so we also need the `!important` here to be able to override the default hidden behavior on the sphinx rendered scikit-learn.org. See: https://github.com/scikit-learn/scikit-learn/issues/21755 */display: inline-block !important;position: relative;}#sk-container-id-3 div.sk-text-repr-fallback {display: none;}</style><div id=\"sk-container-id-3\" class=\"sk-top-container\"><div class=\"sk-text-repr-fallback\"><pre>DecisionTreeRegressor()</pre><b>In a Jupyter environment, please rerun this cell to show the HTML representation or trust the notebook. <br />On GitHub, the HTML representation is unable to render, please try loading this page with nbviewer.org.</b></div><div class=\"sk-container\" hidden><div class=\"sk-item\"><div class=\"sk-estimator sk-toggleable\"><input class=\"sk-toggleable__control sk-hidden--visually\" id=\"sk-estimator-id-3\" type=\"checkbox\" checked><label for=\"sk-estimator-id-3\" class=\"sk-toggleable__label sk-toggleable__label-arrow\">DecisionTreeRegressor</label><div class=\"sk-toggleable__content\"><pre>DecisionTreeRegressor()</pre></div></div></div></div></div>"
      ],
      "text/plain": [
       "DecisionTreeRegressor()"
      ]
     },
     "execution_count": 163,
     "metadata": {},
     "output_type": "execute_result"
    }
   ],
   "source": [
    "dt.fit(x_train,y_train)"
   ]
  },
  {
   "cell_type": "code",
   "execution_count": 164,
   "id": "b365c913",
   "metadata": {},
   "outputs": [
    {
     "name": "stdout",
     "output_type": "stream",
     "text": [
      "training R2 score:100.00%\n",
      "testing R2 score:90.47%\n"
     ]
    }
   ],
   "source": [
    "# since thge model is already trained, below code will help to predict based on train and test data\n",
    "\n",
    "y_pred=dt.predict(x_train) \n",
    "\n",
    "pred=dt.predict(x_test)\n",
    "\n",
    "#printing r2 score for testing and training models.\n",
    "#r2 score give value of how good the model has studied and learnt the data\n",
    "\n",
    "print(f'training R2 score:{r2_score(y_train,y_pred)*100:.2f}%')\n",
    "print(f'testing R2 score:{r2_score(y_test,pred)*100:.2f}%')"
   ]
  },
  {
   "cell_type": "code",
   "execution_count": 165,
   "id": "9b2cf752",
   "metadata": {},
   "outputs": [
    {
     "name": "stdout",
     "output_type": "stream",
     "text": [
      "Cross Validation Score for Decision regressor model :-  83.80270879805306\n"
     ]
    }
   ],
   "source": [
    "#cross validation score\n",
    "print('Cross Validation Score for Decision regressor model :- ',((cross_val_score(dt,x_scaled,y,cv=17).mean())*100))"
   ]
  },
  {
   "cell_type": "code",
   "execution_count": 166,
   "id": "0c47c470",
   "metadata": {},
   "outputs": [
    {
     "name": "stdout",
     "output_type": "stream",
     "text": [
      "mean absolute error 56863.384865744505\n",
      "root mean squared error 101694.71020963501\n"
     ]
    }
   ],
   "source": [
    "#finding mean absolute error() for above model(MAE)\n",
    "print('mean absolute error',mean_absolute_error(y_test,pred))\n",
    "\n",
    "#finding root mean_squared_error(RMSE)\n",
    "print('root mean squared error',np.sqrt(mean_squared_error(y_test,pred)))"
   ]
  },
  {
   "cell_type": "code",
   "execution_count": 167,
   "id": "74ebc166",
   "metadata": {},
   "outputs": [
    {
     "data": {
      "image/png": "[encoded data removed]",
      "text/plain": [
       "<Figure size 432x288 with 1 Axes>"
      ]
     },
     "metadata": {
      "needs_background": "light"
     },
     "output_type": "display_data"
    }
   ],
   "source": [
    "#plotting scatter plot for predicted vs actual\n",
    "\n",
    "plt.scatter(y_test,pred)\n",
    "plt.plot(y_test,y_test,color='r')\n",
    "plt.xlabel('actual price')\n",
    "plt.ylabel('predicted price')\n",
    "plt.title('actual vs model predicted')\n",
    "plt.show()"
   ]
  },
  {
   "cell_type": "markdown",
   "id": "a09ec188",
   "metadata": {},
   "source": [
    "# Gradient Boosting Regressor¶"
   ]
  },
  {
   "cell_type": "code",
   "execution_count": 168,
   "id": "13740550",
   "metadata": {},
   "outputs": [
    {
     "data": {
      "text/html": [
       "<style>#sk-container-id-4 {color: black;background-color: white;}#sk-container-id-4 pre{padding: 0;}#sk-container-id-4 div.sk-toggleable {background-color: white;}#sk-container-id-4 label.sk-toggleable__label {cursor: pointer;display: block;width: 100%;margin-bottom: 0;padding: 0.3em;box-sizing: border-box;text-align: center;}#sk-container-id-4 label.sk-toggleable__label-arrow:before {content: \"▸\";float: left;margin-right: 0.25em;color: #696969;}#sk-container-id-4 label.sk-toggleable__label-arrow:hover:before {color: black;}#sk-container-id-4 div.sk-estimator:hover label.sk-toggleable__label-arrow:before {color: black;}#sk-container-id-4 div.sk-toggleable__content {max-height: 0;max-width: 0;overflow: hidden;text-align: left;background-color: #f0f8ff;}#sk-container-id-4 div.sk-toggleable__content pre {margin: 0.2em;color: black;border-radius: 0.25em;background-color: #f0f8ff;}#sk-container-id-4 input.sk-toggleable__control:checked~div.sk-toggleable__content {max-height: 200px;max-width: 100%;overflow: auto;}#sk-container-id-4 input.sk-toggleable__control:checked~label.sk-toggleable__label-arrow:before {content: \"▾\";}#sk-container-id-4 div.sk-estimator input.sk-toggleable__control:checked~label.sk-toggleable__label {background-color: #d4ebff;}#sk-container-id-4 div.sk-label input.sk-toggleable__control:checked~label.sk-toggleable__label {background-color: #d4ebff;}#sk-container-id-4 input.sk-hidden--visually {border: 0;clip: rect(1px 1px 1px 1px);clip: rect(1px, 1px, 1px, 1px);height: 1px;margin: -1px;overflow: hidden;padding: 0;position: absolute;width: 1px;}#sk-container-id-4 div.sk-estimator {font-family: monospace;background-color: #f0f8ff;border: 1px dotted black;border-radius: 0.25em;box-sizing: border-box;margin-bottom: 0.5em;}#sk-container-id-4 div.sk-estimator:hover {background-color: #d4ebff;}#sk-container-id-4 div.sk-parallel-item::after {content: \"\";width: 100%;border-bottom: 1px solid gray;flex-grow: 1;}#sk-container-id-4 div.sk-label:hover label.sk-toggleable__label {background-color: #d4ebff;}#sk-container-id-4 div.sk-serial::before {content: \"\";position: absolute;border-left: 1px solid gray;box-sizing: border-box;top: 0;bottom: 0;left: 50%;z-index: 0;}#sk-container-id-4 div.sk-serial {display: flex;flex-direction: column;align-items: center;background-color: white;padding-right: 0.2em;padding-left: 0.2em;position: relative;}#sk-container-id-4 div.sk-item {position: relative;z-index: 1;}#sk-container-id-4 div.sk-parallel {display: flex;align-items: stretch;justify-content: center;background-color: white;position: relative;}#sk-container-id-4 div.sk-item::before, #sk-container-id-4 div.sk-parallel-item::before {content: \"\";position: absolute;border-left: 1px solid gray;box-sizing: border-box;top: 0;bottom: 0;left: 50%;z-index: -1;}#sk-container-id-4 div.sk-parallel-item {display: flex;flex-direction: column;z-index: 1;position: relative;background-color: white;}#sk-container-id-4 div.sk-parallel-item:first-child::after {align-self: flex-end;width: 50%;}#sk-container-id-4 div.sk-parallel-item:last-child::after {align-self: flex-start;width: 50%;}#sk-container-id-4 div.sk-parallel-item:only-child::after {width: 0;}#sk-container-id-4 div.sk-dashed-wrapped {border: 1px dashed gray;margin: 0 0.4em 0.5em 0.4em;box-sizing: border-box;padding-bottom: 0.4em;background-color: white;}#sk-container-id-4 div.sk-label label {font-family: monospace;font-weight: bold;display: inline-block;line-height: 1.2em;}#sk-container-id-4 div.sk-label-container {text-align: center;}#sk-container-id-4 div.sk-container {/* jupyter's `normalize.less` sets `[hidden] { display: none; }` but bootstrap.min.css set `[hidden] { display: none !important; }` so we also need the `!important` here to be able to override the default hidden behavior on the sphinx rendered scikit-learn.org. See: https://github.com/scikit-learn/scikit-learn/issues/21755 */display: inline-block !important;position: relative;}#sk-container-id-4 div.sk-text-repr-fallback {display: none;}</style><div id=\"sk-container-id-4\" class=\"sk-top-container\"><div class=\"sk-text-repr-fallback\"><pre>GradientBoostingRegressor()</pre><b>In a Jupyter environment, please rerun this cell to show the HTML representation or trust the notebook. <br />On GitHub, the HTML representation is unable to render, please try loading this page with nbviewer.org.</b></div><div class=\"sk-container\" hidden><div class=\"sk-item\"><div class=\"sk-estimator sk-toggleable\"><input class=\"sk-toggleable__control sk-hidden--visually\" id=\"sk-estimator-id-4\" type=\"checkbox\" checked><label for=\"sk-estimator-id-4\" class=\"sk-toggleable__label sk-toggleable__label-arrow\">GradientBoostingRegressor</label><div class=\"sk-toggleable__content\"><pre>GradientBoostingRegressor()</pre></div></div></div></div></div>"
      ],
      "text/plain": [
       "GradientBoostingRegressor()"
      ]
     },
     "execution_count": 168,
     "metadata": {},
     "output_type": "execute_result"
    }
   ],
   "source": [
    "gbdt.fit(x_train,y_train)"
   ]
  },
  {
   "cell_type": "code",
   "execution_count": 169,
   "id": "c41105fe",
   "metadata": {},
   "outputs": [
    {
     "name": "stdout",
     "output_type": "stream",
     "text": [
      "training R2 score:84.83%\n",
      "testing R2 score:85.45%\n"
     ]
    }
   ],
   "source": [
    "# since thge model is already trained, below code will help to predict based on train and test data\n",
    "\n",
    "y_pred=gbdt.predict(x_train) \n",
    "\n",
    "pred=gbdt.predict(x_test)\n",
    "\n",
    "#printing r2 score for testing and training models.\n",
    "#r2 score give value of how good the model has studied and learnt the data\n",
    "\n",
    "print(f'training R2 score:{r2_score(y_train,y_pred)*100:.2f}%')\n",
    "print(f'testing R2 score:{r2_score(y_test,pred)*100:.2f}%')"
   ]
  },
  {
   "cell_type": "code",
   "execution_count": 170,
   "id": "8c36d400",
   "metadata": {},
   "outputs": [
    {
     "name": "stdout",
     "output_type": "stream",
     "text": [
      "Cross Validation Score for Gradient Boosting regressor model :-  81.61435779736496\n"
     ]
    }
   ],
   "source": [
    "#cross validation score\n",
    "print('Cross Validation Score for Gradient Boosting regressor model :- ',((cross_val_score(gbdt,x_scaled,y,cv=17).mean())*100))"
   ]
  },
  {
   "cell_type": "code",
   "execution_count": 171,
   "id": "861156a2",
   "metadata": {},
   "outputs": [
    {
     "name": "stdout",
     "output_type": "stream",
     "text": [
      "mean absolute error 81581.03192984672\n",
      "root mean squared error 125653.95103241253\n"
     ]
    }
   ],
   "source": [
    "#finding mean absolute error() for above model(MAE)\n",
    "print('mean absolute error',mean_absolute_error(y_test,pred))\n",
    "\n",
    "#finding root mean_squared_error(RMSE)\n",
    "print('root mean squared error',np.sqrt(mean_squared_error(y_test,pred)))"
   ]
  },
  {
   "cell_type": "code",
   "execution_count": 172,
   "id": "8d3910e2",
   "metadata": {},
   "outputs": [
    {
     "data": {
      "image/png": "[encoded data removed]",
      "text/plain": [
       "<Figure size 432x288 with 1 Axes>"
      ]
     },
     "metadata": {
      "needs_background": "light"
     },
     "output_type": "display_data"
    }
   ],
   "source": [
    "#plotting scatter plot for predicted vs actual\n",
    "\n",
    "plt.scatter(y_test,pred)\n",
    "plt.plot(y_test,y_test,color='r')\n",
    "plt.xlabel('actual price')\n",
    "plt.ylabel('predicted price')\n",
    "plt.title('actual vs model predicted')\n",
    "plt.show()"
   ]
  },
  {
   "cell_type": "markdown",
   "id": "2a8cbc9f",
   "metadata": {},
   "source": [
    "-  Looking at all the scores, looks like Random Forest is the best model since it has seen most data therefore it has got good training and testing score with lowest RMSE value.\n",
    "\n",
    "# Hence performing hyperparameter tuning on Random Forest model."
   ]
  },
  {
   "cell_type": "code",
   "execution_count": 173,
   "id": "9f1f7f0d",
   "metadata": {},
   "outputs": [],
   "source": [
    "#importing GridSearchCV library\n",
    "from sklearn.model_selection import GridSearchCV"
   ]
  },
  {
   "cell_type": "code",
   "execution_count": 176,
   "id": "df157412",
   "metadata": {},
   "outputs": [],
   "source": [
    "#setting parameters for tuning\n",
    "grid_param=[{'criterion':[\"squared_error\", \"absolute_error\", \"poisson\"],\n",
    "           'min_samples_split':[2,2.5,3,3.5,4],\n",
    "            'max_depth':[1,2,3,4,5],\n",
    "            'bootstrap':[True,False]}]"
   ]
  },
  {
   "cell_type": "code",
   "execution_count": 177,
   "id": "e5ecc980",
   "metadata": {},
   "outputs": [],
   "source": [
    "grid=GridSearchCV(rf,param_grid=grid_param)"
   ]
  },
  {
   "cell_type": "code",
   "execution_count": 178,
   "id": "ee399c9a",
   "metadata": {},
   "outputs": [
    {
     "data": {
      "text/html": [
       "<style>#sk-container-id-5 {color: black;background-color: white;}#sk-container-id-5 pre{padding: 0;}#sk-container-id-5 div.sk-toggleable {background-color: white;}#sk-container-id-5 label.sk-toggleable__label {cursor: pointer;display: block;width: 100%;margin-bottom: 0;padding: 0.3em;box-sizing: border-box;text-align: center;}#sk-container-id-5 label.sk-toggleable__label-arrow:before {content: \"▸\";float: left;margin-right: 0.25em;color: #696969;}#sk-container-id-5 label.sk-toggleable__label-arrow:hover:before {color: black;}#sk-container-id-5 div.sk-estimator:hover label.sk-toggleable__label-arrow:before {color: black;}#sk-container-id-5 div.sk-toggleable__content {max-height: 0;max-width: 0;overflow: hidden;text-align: left;background-color: #f0f8ff;}#sk-container-id-5 div.sk-toggleable__content pre {margin: 0.2em;color: black;border-radius: 0.25em;background-color: #f0f8ff;}#sk-container-id-5 input.sk-toggleable__control:checked~div.sk-toggleable__content {max-height: 200px;max-width: 100%;overflow: auto;}#sk-container-id-5 input.sk-toggleable__control:checked~label.sk-toggleable__label-arrow:before {content: \"▾\";}#sk-container-id-5 div.sk-estimator input.sk-toggleable__control:checked~label.sk-toggleable__label {background-color: #d4ebff;}#sk-container-id-5 div.sk-label input.sk-toggleable__control:checked~label.sk-toggleable__label {background-color: #d4ebff;}#sk-container-id-5 input.sk-hidden--visually {border: 0;clip: rect(1px 1px 1px 1px);clip: rect(1px, 1px, 1px, 1px);height: 1px;margin: -1px;overflow: hidden;padding: 0;position: absolute;width: 1px;}#sk-container-id-5 div.sk-estimator {font-family: monospace;background-color: #f0f8ff;border: 1px dotted black;border-radius: 0.25em;box-sizing: border-box;margin-bottom: 0.5em;}#sk-container-id-5 div.sk-estimator:hover {background-color: #d4ebff;}#sk-container-id-5 div.sk-parallel-item::after {content: \"\";width: 100%;border-bottom: 1px solid gray;flex-grow: 1;}#sk-container-id-5 div.sk-label:hover label.sk-toggleable__label {background-color: #d4ebff;}#sk-container-id-5 div.sk-serial::before {content: \"\";position: absolute;border-left: 1px solid gray;box-sizing: border-box;top: 0;bottom: 0;left: 50%;z-index: 0;}#sk-container-id-5 div.sk-serial {display: flex;flex-direction: column;align-items: center;background-color: white;padding-right: 0.2em;padding-left: 0.2em;position: relative;}#sk-container-id-5 div.sk-item {position: relative;z-index: 1;}#sk-container-id-5 div.sk-parallel {display: flex;align-items: stretch;justify-content: center;background-color: white;position: relative;}#sk-container-id-5 div.sk-item::before, #sk-container-id-5 div.sk-parallel-item::before {content: \"\";position: absolute;border-left: 1px solid gray;box-sizing: border-box;top: 0;bottom: 0;left: 50%;z-index: -1;}#sk-container-id-5 div.sk-parallel-item {display: flex;flex-direction: column;z-index: 1;position: relative;background-color: white;}#sk-container-id-5 div.sk-parallel-item:first-child::after {align-self: flex-end;width: 50%;}#sk-container-id-5 div.sk-parallel-item:last-child::after {align-self: flex-start;width: 50%;}#sk-container-id-5 div.sk-parallel-item:only-child::after {width: 0;}#sk-container-id-5 div.sk-dashed-wrapped {border: 1px dashed gray;margin: 0 0.4em 0.5em 0.4em;box-sizing: border-box;padding-bottom: 0.4em;background-color: white;}#sk-container-id-5 div.sk-label label {font-family: monospace;font-weight: bold;display: inline-block;line-height: 1.2em;}#sk-container-id-5 div.sk-label-container {text-align: center;}#sk-container-id-5 div.sk-container {/* jupyter's `normalize.less` sets `[hidden] { display: none; }` but bootstrap.min.css set `[hidden] { display: none !important; }` so we also need the `!important` here to be able to override the default hidden behavior on the sphinx rendered scikit-learn.org. See: https://github.com/scikit-learn/scikit-learn/issues/21755 */display: inline-block !important;position: relative;}#sk-container-id-5 div.sk-text-repr-fallback {display: none;}</style><div id=\"sk-container-id-5\" class=\"sk-top-container\"><div class=\"sk-text-repr-fallback\"><pre>GridSearchCV(estimator=RandomForestRegressor(),\n",
       "             param_grid=[{&#x27;bootstrap&#x27;: [True, False],\n",
       "                          &#x27;criterion&#x27;: [&#x27;squared_error&#x27;, &#x27;absolute_error&#x27;,\n",
       "                                        &#x27;poisson&#x27;],\n",
       "                          &#x27;max_depth&#x27;: [1, 2, 3, 4, 5],\n",
       "                          &#x27;min_samples_split&#x27;: [2, 2.5, 3, 3.5, 4]}])</pre><b>In a Jupyter environment, please rerun this cell to show the HTML representation or trust the notebook. <br />On GitHub, the HTML representation is unable to render, please try loading this page with nbviewer.org.</b></div><div class=\"sk-container\" hidden><div class=\"sk-item sk-dashed-wrapped\"><div class=\"sk-label-container\"><div class=\"sk-label sk-toggleable\"><input class=\"sk-toggleable__control sk-hidden--visually\" id=\"sk-estimator-id-5\" type=\"checkbox\" ><label for=\"sk-estimator-id-5\" class=\"sk-toggleable__label sk-toggleable__label-arrow\">GridSearchCV</label><div class=\"sk-toggleable__content\"><pre>GridSearchCV(estimator=RandomForestRegressor(),\n",
       "             param_grid=[{&#x27;bootstrap&#x27;: [True, False],\n",
       "                          &#x27;criterion&#x27;: [&#x27;squared_error&#x27;, &#x27;absolute_error&#x27;,\n",
       "                                        &#x27;poisson&#x27;],\n",
       "                          &#x27;max_depth&#x27;: [1, 2, 3, 4, 5],\n",
       "                          &#x27;min_samples_split&#x27;: [2, 2.5, 3, 3.5, 4]}])</pre></div></div></div><div class=\"sk-parallel\"><div class=\"sk-parallel-item\"><div class=\"sk-item\"><div class=\"sk-label-container\"><div class=\"sk-label sk-toggleable\"><input class=\"sk-toggleable__control sk-hidden--visually\" id=\"sk-estimator-id-6\" type=\"checkbox\" ><label for=\"sk-estimator-id-6\" class=\"sk-toggleable__label sk-toggleable__label-arrow\">estimator: RandomForestRegressor</label><div class=\"sk-toggleable__content\"><pre>RandomForestRegressor()</pre></div></div></div><div class=\"sk-serial\"><div class=\"sk-item\"><div class=\"sk-estimator sk-toggleable\"><input class=\"sk-toggleable__control sk-hidden--visually\" id=\"sk-estimator-id-7\" type=\"checkbox\" ><label for=\"sk-estimator-id-7\" class=\"sk-toggleable__label sk-toggleable__label-arrow\">RandomForestRegressor</label><div class=\"sk-toggleable__content\"><pre>RandomForestRegressor()</pre></div></div></div></div></div></div></div></div></div></div>"
      ],
      "text/plain": [
       "GridSearchCV(estimator=RandomForestRegressor(),\n",
       "             param_grid=[{'bootstrap': [True, False],\n",
       "                          'criterion': ['squared_error', 'absolute_error',\n",
       "                                        'poisson'],\n",
       "                          'max_depth': [1, 2, 3, 4, 5],\n",
       "                          'min_samples_split': [2, 2.5, 3, 3.5, 4]}])"
      ]
     },
     "execution_count": 178,
     "metadata": {},
     "output_type": "execute_result"
    }
   ],
   "source": [
    "grid.fit(x_train,y_train)"
   ]
  },
  {
   "cell_type": "code",
   "execution_count": 179,
   "id": "e75c67eb",
   "metadata": {},
   "outputs": [
    {
     "data": {
      "text/plain": [
       "{'bootstrap': True,\n",
       " 'criterion': 'squared_error',\n",
       " 'max_depth': 5,\n",
       " 'min_samples_split': 3}"
      ]
     },
     "execution_count": 179,
     "metadata": {},
     "output_type": "execute_result"
    }
   ],
   "source": [
    "#best parameters for tuning\n",
    "grid.best_params_"
   ]
  },
  {
   "cell_type": "code",
   "execution_count": 180,
   "id": "a5175521",
   "metadata": {},
   "outputs": [],
   "source": [
    "#using best parameters to train\n",
    "\n",
    "rf1=RandomForestRegressor(criterion='squared_error'\n",
    "                          ,min_samples_split=3,\n",
    "                          max_depth=5,\n",
    "                          bootstrap=True)"
   ]
  },
  {
   "cell_type": "code",
   "execution_count": 181,
   "id": "f3b8d490",
   "metadata": {},
   "outputs": [
    {
     "data": {
      "text/html": [
       "<style>#sk-container-id-6 {color: black;background-color: white;}#sk-container-id-6 pre{padding: 0;}#sk-container-id-6 div.sk-toggleable {background-color: white;}#sk-container-id-6 label.sk-toggleable__label {cursor: pointer;display: block;width: 100%;margin-bottom: 0;padding: 0.3em;box-sizing: border-box;text-align: center;}#sk-container-id-6 label.sk-toggleable__label-arrow:before {content: \"▸\";float: left;margin-right: 0.25em;color: #696969;}#sk-container-id-6 label.sk-toggleable__label-arrow:hover:before {color: black;}#sk-container-id-6 div.sk-estimator:hover label.sk-toggleable__label-arrow:before {color: black;}#sk-container-id-6 div.sk-toggleable__content {max-height: 0;max-width: 0;overflow: hidden;text-align: left;background-color: #f0f8ff;}#sk-container-id-6 div.sk-toggleable__content pre {margin: 0.2em;color: black;border-radius: 0.25em;background-color: #f0f8ff;}#sk-container-id-6 input.sk-toggleable__control:checked~div.sk-toggleable__content {max-height: 200px;max-width: 100%;overflow: auto;}#sk-container-id-6 input.sk-toggleable__control:checked~label.sk-toggleable__label-arrow:before {content: \"▾\";}#sk-container-id-6 div.sk-estimator input.sk-toggleable__control:checked~label.sk-toggleable__label {background-color: #d4ebff;}#sk-container-id-6 div.sk-label input.sk-toggleable__control:checked~label.sk-toggleable__label {background-color: #d4ebff;}#sk-container-id-6 input.sk-hidden--visually {border: 0;clip: rect(1px 1px 1px 1px);clip: rect(1px, 1px, 1px, 1px);height: 1px;margin: -1px;overflow: hidden;padding: 0;position: absolute;width: 1px;}#sk-container-id-6 div.sk-estimator {font-family: monospace;background-color: #f0f8ff;border: 1px dotted black;border-radius: 0.25em;box-sizing: border-box;margin-bottom: 0.5em;}#sk-container-id-6 div.sk-estimator:hover {background-color: #d4ebff;}#sk-container-id-6 div.sk-parallel-item::after {content: \"\";width: 100%;border-bottom: 1px solid gray;flex-grow: 1;}#sk-container-id-6 div.sk-label:hover label.sk-toggleable__label {background-color: #d4ebff;}#sk-container-id-6 div.sk-serial::before {content: \"\";position: absolute;border-left: 1px solid gray;box-sizing: border-box;top: 0;bottom: 0;left: 50%;z-index: 0;}#sk-container-id-6 div.sk-serial {display: flex;flex-direction: column;align-items: center;background-color: white;padding-right: 0.2em;padding-left: 0.2em;position: relative;}#sk-container-id-6 div.sk-item {position: relative;z-index: 1;}#sk-container-id-6 div.sk-parallel {display: flex;align-items: stretch;justify-content: center;background-color: white;position: relative;}#sk-container-id-6 div.sk-item::before, #sk-container-id-6 div.sk-parallel-item::before {content: \"\";position: absolute;border-left: 1px solid gray;box-sizing: border-box;top: 0;bottom: 0;left: 50%;z-index: -1;}#sk-container-id-6 div.sk-parallel-item {display: flex;flex-direction: column;z-index: 1;position: relative;background-color: white;}#sk-container-id-6 div.sk-parallel-item:first-child::after {align-self: flex-end;width: 50%;}#sk-container-id-6 div.sk-parallel-item:last-child::after {align-self: flex-start;width: 50%;}#sk-container-id-6 div.sk-parallel-item:only-child::after {width: 0;}#sk-container-id-6 div.sk-dashed-wrapped {border: 1px dashed gray;margin: 0 0.4em 0.5em 0.4em;box-sizing: border-box;padding-bottom: 0.4em;background-color: white;}#sk-container-id-6 div.sk-label label {font-family: monospace;font-weight: bold;display: inline-block;line-height: 1.2em;}#sk-container-id-6 div.sk-label-container {text-align: center;}#sk-container-id-6 div.sk-container {/* jupyter's `normalize.less` sets `[hidden] { display: none; }` but bootstrap.min.css set `[hidden] { display: none !important; }` so we also need the `!important` here to be able to override the default hidden behavior on the sphinx rendered scikit-learn.org. See: https://github.com/scikit-learn/scikit-learn/issues/21755 */display: inline-block !important;position: relative;}#sk-container-id-6 div.sk-text-repr-fallback {display: none;}</style><div id=\"sk-container-id-6\" class=\"sk-top-container\"><div class=\"sk-text-repr-fallback\"><pre>RandomForestRegressor(max_depth=5, min_samples_split=3)</pre><b>In a Jupyter environment, please rerun this cell to show the HTML representation or trust the notebook. <br />On GitHub, the HTML representation is unable to render, please try loading this page with nbviewer.org.</b></div><div class=\"sk-container\" hidden><div class=\"sk-item\"><div class=\"sk-estimator sk-toggleable\"><input class=\"sk-toggleable__control sk-hidden--visually\" id=\"sk-estimator-id-8\" type=\"checkbox\" checked><label for=\"sk-estimator-id-8\" class=\"sk-toggleable__label sk-toggleable__label-arrow\">RandomForestRegressor</label><div class=\"sk-toggleable__content\"><pre>RandomForestRegressor(max_depth=5, min_samples_split=3)</pre></div></div></div></div></div>"
      ],
      "text/plain": [
       "RandomForestRegressor(max_depth=5, min_samples_split=3)"
      ]
     },
     "execution_count": 181,
     "metadata": {},
     "output_type": "execute_result"
    }
   ],
   "source": [
    "rf1.fit(x_train,y_train)"
   ]
  },
  {
   "cell_type": "code",
   "execution_count": 182,
   "id": "bbafc794",
   "metadata": {},
   "outputs": [
    {
     "name": "stdout",
     "output_type": "stream",
     "text": [
      "training R2 score:64.27%\n",
      "testing R2 score:69.25%\n"
     ]
    }
   ],
   "source": [
    "# since thge model is already trained, below code will help to predict based on train and test data\n",
    "\n",
    "y_pred=rf1.predict(x_train) \n",
    "\n",
    "pred=rf1.predict(x_test)\n",
    "\n",
    "#printing r2 score for testing and training models.\n",
    "#r2 score give value of how good the model has studied and learnt the data\n",
    "\n",
    "print(f'training R2 score:{r2_score(y_train,y_pred)*100:.2f}%')\n",
    "print(f'testing R2 score:{r2_score(y_test,pred)*100:.2f}%')"
   ]
  },
  {
   "cell_type": "code",
   "execution_count": 184,
   "id": "e6a63c41",
   "metadata": {},
   "outputs": [
    {
     "name": "stdout",
     "output_type": "stream",
     "text": [
      "Cross Validation Score for Random forest tuned model :-  62.27580920105422\n"
     ]
    }
   ],
   "source": [
    "#cross validation score\n",
    "print('Cross Validation Score for Random forest tuned model :- ',((cross_val_score(rf1,x_scaled,y,cv=17).mean())*100))"
   ]
  },
  {
   "cell_type": "code",
   "execution_count": 185,
   "id": "c7facaec",
   "metadata": {},
   "outputs": [
    {
     "name": "stdout",
     "output_type": "stream",
     "text": [
      "mean absolute error 127350.5450237147\n",
      "root mean squared error 182659.95770899273\n"
     ]
    }
   ],
   "source": [
    "#finding mean absolute error() for above model(MAE)\n",
    "print('mean absolute error',mean_absolute_error(y_test,pred))\n",
    "\n",
    "#finding root mean_squared_error(RMSE)\n",
    "print('root mean squared error',np.sqrt(mean_squared_error(y_test,pred)))"
   ]
  },
  {
   "cell_type": "code",
   "execution_count": 186,
   "id": "917c5d5e",
   "metadata": {},
   "outputs": [
    {
     "data": {
      "image/png": "[encoded data removed]",
      "text/plain": [
       "<Figure size 432x288 with 1 Axes>"
      ]
     },
     "metadata": {
      "needs_background": "light"
     },
     "output_type": "display_data"
    }
   ],
   "source": [
    "#plotting scatter plot for predicted vs actual\n",
    "\n",
    "plt.scatter(y_test,pred)\n",
    "plt.plot(y_test,y_test,color='r')\n",
    "plt.xlabel('actual price')\n",
    "plt.ylabel('predicted price')\n",
    "plt.title('actual vs model predicted')\n",
    "plt.show()"
   ]
  },
  {
   "cell_type": "markdown",
   "id": "e00126eb",
   "metadata": {},
   "source": [
    "# Saving the model using pickle"
   ]
  },
  {
   "cell_type": "code",
   "execution_count": 187,
   "id": "292f914b",
   "metadata": {},
   "outputs": [],
   "source": [
    "import pickle"
   ]
  },
  {
   "cell_type": "code",
   "execution_count": 188,
   "id": "b829fcd8",
   "metadata": {},
   "outputs": [],
   "source": [
    "pickle.dump(rf,open('cars24price_rf','wb'))"
   ]
  }
 ],
 "metadata": {
  "kernelspec": {
   "display_name": "Python 3 (ipykernel)",
   "language": "python",
   "name": "python3"
  },
  "language_info": {
   "codemirror_mode": {
    "name": "ipython",
    "version": 3
   },
   "file_extension": ".py",
   "mimetype": "text/x-python",
   "name": "python",
   "nbconvert_exporter": "python",
   "pygments_lexer": "ipython3",
   "version": "3.9.12"
  }
 },
 "nbformat": 4,
 "nbformat_minor": 5
}
